{
 "cells": [
  {
   "cell_type": "markdown",
   "metadata": {},
   "source": [
    "# __Thesis Update__"
   ]
  },
  {
   "cell_type": "markdown",
   "metadata": {},
   "source": [
    "## __My first Optimized Regression Problem using DNN__"
   ]
  },
  {
   "cell_type": "markdown",
   "metadata": {},
   "source": [
    "### __Importing Libraries__"
   ]
  },
  {
   "cell_type": "code",
   "execution_count": 2,
   "metadata": {},
   "outputs": [
    {
     "name": "stderr",
     "output_type": "stream",
     "text": [
      "/home/ram/anaconda3/lib/python3.6/importlib/_bootstrap.py:219: RuntimeWarning: numpy.dtype size changed, may indicate binary incompatibility. Expected 96, got 88\n",
      "  return f(*args, **kwds)\n",
      "/home/ram/anaconda3/lib/python3.6/importlib/_bootstrap.py:219: RuntimeWarning: numpy.dtype size changed, may indicate binary incompatibility. Expected 96, got 88\n",
      "  return f(*args, **kwds)\n",
      "/home/ram/anaconda3/lib/python3.6/importlib/_bootstrap.py:219: RuntimeWarning: numpy.dtype size changed, may indicate binary incompatibility. Expected 96, got 88\n",
      "  return f(*args, **kwds)\n",
      "/home/ram/anaconda3/lib/python3.6/site-packages/h5py/__init__.py:36: FutureWarning: Conversion of the second argument of issubdtype from `float` to `np.floating` is deprecated. In future, it will be treated as `np.float64 == np.dtype(float).type`.\n",
      "  from ._conv import register_converters as _register_converters\n",
      "/home/ram/anaconda3/lib/python3.6/importlib/_bootstrap.py:219: RuntimeWarning: numpy.dtype size changed, may indicate binary incompatibility. Expected 96, got 88\n",
      "  return f(*args, **kwds)\n"
     ]
    }
   ],
   "source": [
    "import numpy as np\n",
    "import pandas as pd\n",
    "import tensorflow as tf\n",
    "import sklearn"
   ]
  },
  {
   "cell_type": "markdown",
   "metadata": {},
   "source": [
    "### __Importing Keras Parameters__"
   ]
  },
  {
   "cell_type": "code",
   "execution_count": 3,
   "metadata": {},
   "outputs": [
    {
     "name": "stderr",
     "output_type": "stream",
     "text": [
      "Using TensorFlow backend.\n"
     ]
    }
   ],
   "source": [
    "from keras.models import Sequential\n",
    "from keras.layers import Dense\n",
    "from keras.optimizers import Adam\n",
    "from keras.utils.vis_utils import plot_model"
   ]
  },
  {
   "cell_type": "markdown",
   "metadata": {},
   "source": [
    "### __Importing Scikit Learn Parameters__"
   ]
  },
  {
   "cell_type": "code",
   "execution_count": 4,
   "metadata": {},
   "outputs": [
    {
     "name": "stderr",
     "output_type": "stream",
     "text": [
      "/home/ram/anaconda3/lib/python3.6/importlib/_bootstrap.py:219: RuntimeWarning: numpy.dtype size changed, may indicate binary incompatibility. Expected 96, got 88\n",
      "  return f(*args, **kwds)\n"
     ]
    }
   ],
   "source": [
    "from sklearn.model_selection import train_test_split\n",
    "from sklearn.metrics import r2_score"
   ]
  },
  {
   "cell_type": "markdown",
   "metadata": {},
   "source": [
    "### __Importing Data File (.csv)__"
   ]
  },
  {
   "cell_type": "code",
   "execution_count": 5,
   "metadata": {},
   "outputs": [],
   "source": [
    "train = pd.read_csv('carbon_nanotubes.csv')"
   ]
  },
  {
   "cell_type": "markdown",
   "metadata": {},
   "source": [
    "### __Viewing Dataset__"
   ]
  },
  {
   "cell_type": "code",
   "execution_count": 6,
   "metadata": {},
   "outputs": [
    {
     "name": "stdout",
     "output_type": "stream",
     "text": [
      "       Chiral indice n  Chiral indice m Initial atomic coordinate u  \\\n",
      "0                    2                1                    0,679005   \n",
      "1                    2                1                    0,717298   \n",
      "2                    2                1                    0,489336   \n",
      "3                    2                1                    0,413957   \n",
      "4                    2                1                    0,334292   \n",
      "5                    2                1                    0,510664   \n",
      "6                    2                1                    0,413957   \n",
      "7                    2                1                    0,712552   \n",
      "8                    2                1                    0,320995   \n",
      "9                    2                1                    0,394742   \n",
      "10                   2                1                    0,282702   \n",
      "11                   2                1                    0,320995   \n",
      "12                   2                1                    0,605258   \n",
      "13                   2                1                    0,510664   \n",
      "14                   2                1                    0,679005   \n",
      "15                   2                1                    0,605258   \n",
      "16                   2                1                    0,665708   \n",
      "17                   2                1                    0,712552   \n",
      "18                   2                1                    0,586043   \n",
      "19                   2                1                    0,665708   \n",
      "20                   2                1                    0,287448   \n",
      "21                   2                1                    0,282702   \n",
      "22                   2                1                    0,334292   \n",
      "23                   2                1                    0,287448   \n",
      "24                   2                1                    0,717298   \n",
      "25                   2                1                    0,489336   \n",
      "26                   2                1                    0,586043   \n",
      "27                   2                1                    0,394742   \n",
      "28                   3                1                    0,591598   \n",
      "29                   3                1                     0,24301   \n",
      "...                ...              ...                         ...   \n",
      "10691               12                6                    0,667231   \n",
      "10692               12                6                    0,602319   \n",
      "10693               12                6                    0,635153   \n",
      "10694               12                6                    0,433329   \n",
      "10695               12                6                    0,467139   \n",
      "10696               12                6                    0,399891   \n",
      "10697               12                6                     0,24471   \n",
      "10698               12                6                     0,94994   \n",
      "10699               12                6                    0,953664   \n",
      "10700               12                6                     0,89448   \n",
      "10701               12                6                    0,910299   \n",
      "10702               12                6                    0,876454   \n",
      "10703               12                6                     0,89448   \n",
      "10704               12                6                    0,757164   \n",
      "10705               12                6                    0,784482   \n",
      "10706               12                6                    0,728407   \n",
      "10707               12                6                    0,757164   \n",
      "10708               12                6                    0,568913   \n",
      "10709               12                6                    0,602319   \n",
      "10710               12                6                      0,9437   \n",
      "10711               12                6                     0,94994   \n",
      "10712               12                6                    0,934978   \n",
      "10713               12                6                      0,9437   \n",
      "10714               12                6                    0,856324   \n",
      "10715               12                6                    0,876454   \n",
      "10716               12                6                    0,834201   \n",
      "10717               12                6                    0,698374   \n",
      "10718               12                6                    0,923823   \n",
      "10719               12                6                    0,934978   \n",
      "10720               12                6                    0,953664   \n",
      "\n",
      "      Initial atomic coordinate v Initial atomic coordinate w  \\\n",
      "0                        0,701318                    0,017033   \n",
      "1                        0,642129                    0,231319   \n",
      "2                        0,303751                    0,088462   \n",
      "3                        0,632996                    0,040843   \n",
      "4                        0,543401                     0,15989   \n",
      "5                        0,696249                    0,255128   \n",
      "6                        0,632996                    0,374176   \n",
      "7                         0,55479                    0,112271   \n",
      "8                        0,298682                      0,1837   \n",
      "9                        0,279367                    0,302747   \n",
      "10                       0,357871                    0,397985   \n",
      "11                       0,298682                    0,517033   \n",
      "12                       0,720633                    0,469414   \n",
      "13                       0,696249                    0,588462   \n",
      "14                       0,701318                      0,6837   \n",
      "15                       0,720633                    0,802747   \n",
      "16                       0,456599                    0,326557   \n",
      "17                        0,55479                    0,445605   \n",
      "18                       0,367004                    0,540843   \n",
      "19                       0,456599                     0,65989   \n",
      "20                        0,44521                    0,612271   \n",
      "21                       0,357871                    0,731319   \n",
      "22                       0,543401                    0,826557   \n",
      "23                        0,44521                    0,945605   \n",
      "24                       0,642129                    0,897985   \n",
      "25                       0,303751                    0,755128   \n",
      "26                       0,367004                    0,874176   \n",
      "27                       0,279367                    0,969414   \n",
      "28                       0,760361                     0,05909   \n",
      "29                       0,424391                    0,020628   \n",
      "...                           ...                         ...   \n",
      "10691                    0,217291                    0,510318   \n",
      "10692                    0,167341                    0,605556   \n",
      "10693                    0,191454                    0,724604   \n",
      "10694                    0,077005                    0,676985   \n",
      "10695                    0,090685                    0,796032   \n",
      "10696                    0,065691                     0,89127   \n",
      "10697                    0,046336                    0,962699   \n",
      "10698                    0,667231                    0,176985   \n",
      "10699                    0,698374                    0,296032   \n",
      "10700                    0,501134                    0,248413   \n",
      "10701                    0,535122                    0,367461   \n",
      "10702                    0,467139                    0,462699   \n",
      "10703                    0,501134                    0,581747   \n",
      "10704                    0,303669                    0,534128   \n",
      "10705                    0,334879                    0,653175   \n",
      "10706                    0,273556                    0,748413   \n",
      "10707                    0,303669                    0,867461   \n",
      "10708                     0,14509                    0,819842   \n",
      "10709                    0,167341                    0,938889   \n",
      "10710                    0,635153                     0,39127   \n",
      "10711                    0,667231                    0,510318   \n",
      "10712                    0,602319                    0,605556   \n",
      "10713                    0,635153                    0,724604   \n",
      "10714                    0,433329                    0,676985   \n",
      "10715                    0,467139                    0,796032   \n",
      "10716                    0,399891                     0,89127   \n",
      "10717                     0,24471                    0,962699   \n",
      "10718                    0,568913                    0,819842   \n",
      "10719                    0,602319                    0,938889   \n",
      "10720                    0,698374                    0,962699   \n",
      "\n",
      "      Calculated atomic coordinates u' Calculated atomic coordinates v'  \\\n",
      "0                             0,721039                         0,730232   \n",
      "1                             0,738414                          0,65675   \n",
      "2                             0,477676                         0,263221   \n",
      "3                             0,408823                         0,657897   \n",
      "4                             0,303349                         0,558807   \n",
      "5                             0,496977                         0,725608   \n",
      "6                             0,390878                         0,657645   \n",
      "7                             0,750056                         0,561494   \n",
      "8                             0,281301                         0,261433   \n",
      "9                              0,35086                           0,2335   \n",
      "10                            0,229138                         0,328729   \n",
      "11                            0,278752                         0,269615   \n",
      "12                            0,613415                         0,760009   \n",
      "13                            0,521991                         0,736991   \n",
      "14                            0,718811                         0,738577   \n",
      "15                            0,649178                         0,766301   \n",
      "16                            0,680389                         0,444562   \n",
      "17                            0,737216                         0,552056   \n",
      "18                            0,591153                         0,342069   \n",
      "19                            0,697242                         0,441516   \n",
      "20                            0,249571                         0,438057   \n",
      "21                            0,262916                         0,343512   \n",
      "22                            0,320053                         0,555754   \n",
      "23                            0,262054                          0,44817   \n",
      "24                            0,770521                         0,670869   \n",
      "25                             0,50356                          0,27443   \n",
      "26                               0,609                         0,342123   \n",
      "27                            0,385666                         0,240071   \n",
      "28                             0,59912                         0,779052   \n",
      "29                            0,222068                         0,414703   \n",
      "...                                ...                              ...   \n",
      "10691                         0,675213                         0,221042   \n",
      "10692                         0,609722                         0,170185   \n",
      "10693                         0,642385                         0,194718   \n",
      "10694                         0,439363                         0,075893   \n",
      "10695                         0,473478                         0,090666   \n",
      "10696                         0,405382                          0,06317   \n",
      "10697                         0,247225                         0,039868   \n",
      "10698                         0,956962                          0,67589   \n",
      "10699                         0,959953                         0,707042   \n",
      "10700                         0,901437                         0,508258   \n",
      "10701                         0,916109                         0,542305   \n",
      "10702                         0,881945                         0,473923   \n",
      "10703                         0,899827                         0,507979   \n",
      "10704                         0,765168                           0,3082   \n",
      "10705                         0,792873                         0,339489   \n",
      "10706                         0,736565                          0,27727   \n",
      "10707                         0,765487                         0,308085   \n",
      "10708                         0,575654                         0,147821   \n",
      "10709                          0,60965                         0,170393   \n",
      "10710                         0,949557                         0,642948   \n",
      "10711                         0,955329                         0,675301   \n",
      "10712                         0,940604                         0,609889   \n",
      "10713                         0,949804                         0,643207   \n",
      "10714                         0,862724                         0,439572   \n",
      "10715                         0,882181                         0,473901   \n",
      "10716                         0,841858                         0,405882   \n",
      "10717                         0,706555                         0,248416   \n",
      "10718                         0,929403                         0,576284   \n",
      "10719                         0,941844                         0,610608   \n",
      "10720                         0,961243                         0,707812   \n",
      "\n",
      "      Calculated atomic coordinates w'  \n",
      "0                             0,017014  \n",
      "1                             0,232369  \n",
      "2                             0,088712  \n",
      "3                             0,039796  \n",
      "4                             0,157373  \n",
      "5                              0,25597  \n",
      "6                             0,374735  \n",
      "7                             0,114944  \n",
      "8                             0,182779  \n",
      "9                             0,302196  \n",
      "10                            0,398581  \n",
      "11                             0,51733  \n",
      "12                            0,469452  \n",
      "13                            0,588946  \n",
      "14                             0,68244  \n",
      "15                             0,80193  \n",
      "16                            0,327502  \n",
      "17                            0,443517  \n",
      "18                            0,540172  \n",
      "19                            0,657521  \n",
      "20                            0,614939  \n",
      "21                            0,732213  \n",
      "22                            0,827503  \n",
      "23                            0,943402  \n",
      "24                            0,898389  \n",
      "25                             0,75629  \n",
      "26                            0,875088  \n",
      "27                            0,969157  \n",
      "28                            0,058651  \n",
      "29                            0,020882  \n",
      "...                                ...  \n",
      "10691                         0,510399  \n",
      "10692                         0,605706  \n",
      "10693                         0,724856  \n",
      "10694                         0,676975  \n",
      "10695                         0,796076  \n",
      "10696                         0,891509  \n",
      "10697                         0,962661  \n",
      "10698                         0,177064  \n",
      "10699                         0,296021  \n",
      "10700                         0,248468  \n",
      "10701                         0,367511  \n",
      "10702                         0,462934  \n",
      "10703                         0,581936  \n",
      "10704                         0,534307  \n",
      "10705                         0,653269  \n",
      "10706                         0,748524  \n",
      "10707                         0,867488  \n",
      "10708                         0,820112  \n",
      "10709                         0,939122  \n",
      "10710                         0,391238  \n",
      "10711                         0,510211  \n",
      "10712                          0,60567  \n",
      "10713                         0,724611  \n",
      "10714                         0,677102  \n",
      "10715                         0,796005  \n",
      "10716                         0,891356  \n",
      "10717                         0,962833  \n",
      "10718                         0,819879  \n",
      "10719                         0,938755  \n",
      "10720                         0,962605  \n",
      "\n",
      "[10721 rows x 8 columns]\n"
     ]
    }
   ],
   "source": [
    "print(train)"
   ]
  },
  {
   "cell_type": "markdown",
   "metadata": {},
   "source": [
    "### __Cleaning dataset (converting comma to decimal point)__"
   ]
  },
  {
   "cell_type": "code",
   "execution_count": 7,
   "metadata": {},
   "outputs": [],
   "source": [
    "train.replace(',','.', inplace = True, regex=True)\n",
    "train = train.apply(pd.to_numeric)"
   ]
  },
  {
   "cell_type": "markdown",
   "metadata": {},
   "source": [
    "### __Reviewing dataset for correctness__"
   ]
  },
  {
   "cell_type": "code",
   "execution_count": 8,
   "metadata": {},
   "outputs": [
    {
     "data": {
      "text/html": [
       "<div>\n",
       "<style scoped>\n",
       "    .dataframe tbody tr th:only-of-type {\n",
       "        vertical-align: middle;\n",
       "    }\n",
       "\n",
       "    .dataframe tbody tr th {\n",
       "        vertical-align: top;\n",
       "    }\n",
       "\n",
       "    .dataframe thead th {\n",
       "        text-align: right;\n",
       "    }\n",
       "</style>\n",
       "<table border=\"1\" class=\"dataframe\">\n",
       "  <thead>\n",
       "    <tr style=\"text-align: right;\">\n",
       "      <th></th>\n",
       "      <th>Chiral indice n</th>\n",
       "      <th>Chiral indice m</th>\n",
       "      <th>Initial atomic coordinate u</th>\n",
       "      <th>Initial atomic coordinate v</th>\n",
       "      <th>Initial atomic coordinate w</th>\n",
       "      <th>Calculated atomic coordinates u'</th>\n",
       "      <th>Calculated atomic coordinates v'</th>\n",
       "      <th>Calculated atomic coordinates w'</th>\n",
       "    </tr>\n",
       "  </thead>\n",
       "  <tbody>\n",
       "    <tr>\n",
       "      <th>0</th>\n",
       "      <td>2</td>\n",
       "      <td>1</td>\n",
       "      <td>0.679005</td>\n",
       "      <td>0.701318</td>\n",
       "      <td>0.017033</td>\n",
       "      <td>0.721039</td>\n",
       "      <td>0.730232</td>\n",
       "      <td>0.017014</td>\n",
       "    </tr>\n",
       "    <tr>\n",
       "      <th>1</th>\n",
       "      <td>2</td>\n",
       "      <td>1</td>\n",
       "      <td>0.717298</td>\n",
       "      <td>0.642129</td>\n",
       "      <td>0.231319</td>\n",
       "      <td>0.738414</td>\n",
       "      <td>0.656750</td>\n",
       "      <td>0.232369</td>\n",
       "    </tr>\n",
       "    <tr>\n",
       "      <th>2</th>\n",
       "      <td>2</td>\n",
       "      <td>1</td>\n",
       "      <td>0.489336</td>\n",
       "      <td>0.303751</td>\n",
       "      <td>0.088462</td>\n",
       "      <td>0.477676</td>\n",
       "      <td>0.263221</td>\n",
       "      <td>0.088712</td>\n",
       "    </tr>\n",
       "    <tr>\n",
       "      <th>3</th>\n",
       "      <td>2</td>\n",
       "      <td>1</td>\n",
       "      <td>0.413957</td>\n",
       "      <td>0.632996</td>\n",
       "      <td>0.040843</td>\n",
       "      <td>0.408823</td>\n",
       "      <td>0.657897</td>\n",
       "      <td>0.039796</td>\n",
       "    </tr>\n",
       "    <tr>\n",
       "      <th>4</th>\n",
       "      <td>2</td>\n",
       "      <td>1</td>\n",
       "      <td>0.334292</td>\n",
       "      <td>0.543401</td>\n",
       "      <td>0.159890</td>\n",
       "      <td>0.303349</td>\n",
       "      <td>0.558807</td>\n",
       "      <td>0.157373</td>\n",
       "    </tr>\n",
       "  </tbody>\n",
       "</table>\n",
       "</div>"
      ],
      "text/plain": [
       "   Chiral indice n  Chiral indice m  Initial atomic coordinate u  \\\n",
       "0                2                1                     0.679005   \n",
       "1                2                1                     0.717298   \n",
       "2                2                1                     0.489336   \n",
       "3                2                1                     0.413957   \n",
       "4                2                1                     0.334292   \n",
       "\n",
       "   Initial atomic coordinate v  Initial atomic coordinate w  \\\n",
       "0                     0.701318                     0.017033   \n",
       "1                     0.642129                     0.231319   \n",
       "2                     0.303751                     0.088462   \n",
       "3                     0.632996                     0.040843   \n",
       "4                     0.543401                     0.159890   \n",
       "\n",
       "   Calculated atomic coordinates u'  Calculated atomic coordinates v'  \\\n",
       "0                          0.721039                          0.730232   \n",
       "1                          0.738414                          0.656750   \n",
       "2                          0.477676                          0.263221   \n",
       "3                          0.408823                          0.657897   \n",
       "4                          0.303349                          0.558807   \n",
       "\n",
       "   Calculated atomic coordinates w'  \n",
       "0                          0.017014  \n",
       "1                          0.232369  \n",
       "2                          0.088712  \n",
       "3                          0.039796  \n",
       "4                          0.157373  "
      ]
     },
     "execution_count": 8,
     "metadata": {},
     "output_type": "execute_result"
    }
   ],
   "source": [
    "train.head()"
   ]
  },
  {
   "cell_type": "markdown",
   "metadata": {},
   "source": [
    "### __Decription of Dataset__"
   ]
  },
  {
   "cell_type": "code",
   "execution_count": 9,
   "metadata": {},
   "outputs": [
    {
     "data": {
      "text/html": [
       "<div>\n",
       "<style scoped>\n",
       "    .dataframe tbody tr th:only-of-type {\n",
       "        vertical-align: middle;\n",
       "    }\n",
       "\n",
       "    .dataframe tbody tr th {\n",
       "        vertical-align: top;\n",
       "    }\n",
       "\n",
       "    .dataframe thead th {\n",
       "        text-align: right;\n",
       "    }\n",
       "</style>\n",
       "<table border=\"1\" class=\"dataframe\">\n",
       "  <thead>\n",
       "    <tr style=\"text-align: right;\">\n",
       "      <th></th>\n",
       "      <th>Chiral indice n</th>\n",
       "      <th>Chiral indice m</th>\n",
       "      <th>Initial atomic coordinate u</th>\n",
       "      <th>Initial atomic coordinate v</th>\n",
       "      <th>Initial atomic coordinate w</th>\n",
       "      <th>Calculated atomic coordinates u'</th>\n",
       "      <th>Calculated atomic coordinates v'</th>\n",
       "      <th>Calculated atomic coordinates w'</th>\n",
       "    </tr>\n",
       "  </thead>\n",
       "  <tbody>\n",
       "    <tr>\n",
       "      <th>count</th>\n",
       "      <td>10721.000000</td>\n",
       "      <td>10721.000000</td>\n",
       "      <td>10721.000000</td>\n",
       "      <td>10721.000000</td>\n",
       "      <td>10721.000000</td>\n",
       "      <td>10721.000000</td>\n",
       "      <td>10721.000000</td>\n",
       "      <td>10721.000000</td>\n",
       "    </tr>\n",
       "    <tr>\n",
       "      <th>mean</th>\n",
       "      <td>8.225725</td>\n",
       "      <td>3.337189</td>\n",
       "      <td>0.500064</td>\n",
       "      <td>0.500072</td>\n",
       "      <td>0.499637</td>\n",
       "      <td>0.500064</td>\n",
       "      <td>0.500072</td>\n",
       "      <td>0.499834</td>\n",
       "    </tr>\n",
       "    <tr>\n",
       "      <th>std</th>\n",
       "      <td>2.138919</td>\n",
       "      <td>1.683881</td>\n",
       "      <td>0.286524</td>\n",
       "      <td>0.286495</td>\n",
       "      <td>0.288503</td>\n",
       "      <td>0.290935</td>\n",
       "      <td>0.291012</td>\n",
       "      <td>0.289095</td>\n",
       "    </tr>\n",
       "    <tr>\n",
       "      <th>min</th>\n",
       "      <td>2.000000</td>\n",
       "      <td>1.000000</td>\n",
       "      <td>0.045149</td>\n",
       "      <td>0.045149</td>\n",
       "      <td>0.000061</td>\n",
       "      <td>0.038504</td>\n",
       "      <td>0.038930</td>\n",
       "      <td>0.000000</td>\n",
       "    </tr>\n",
       "    <tr>\n",
       "      <th>25%</th>\n",
       "      <td>7.000000</td>\n",
       "      <td>2.000000</td>\n",
       "      <td>0.218041</td>\n",
       "      <td>0.217594</td>\n",
       "      <td>0.249483</td>\n",
       "      <td>0.213364</td>\n",
       "      <td>0.212922</td>\n",
       "      <td>0.249242</td>\n",
       "    </tr>\n",
       "    <tr>\n",
       "      <th>50%</th>\n",
       "      <td>8.000000</td>\n",
       "      <td>3.000000</td>\n",
       "      <td>0.500181</td>\n",
       "      <td>0.500297</td>\n",
       "      <td>0.500057</td>\n",
       "      <td>0.500538</td>\n",
       "      <td>0.500020</td>\n",
       "      <td>0.499755</td>\n",
       "    </tr>\n",
       "    <tr>\n",
       "      <th>75%</th>\n",
       "      <td>10.000000</td>\n",
       "      <td>5.000000</td>\n",
       "      <td>0.781959</td>\n",
       "      <td>0.782709</td>\n",
       "      <td>0.749191</td>\n",
       "      <td>0.786588</td>\n",
       "      <td>0.787161</td>\n",
       "      <td>0.749463</td>\n",
       "    </tr>\n",
       "    <tr>\n",
       "      <th>max</th>\n",
       "      <td>12.000000</td>\n",
       "      <td>6.000000</td>\n",
       "      <td>0.954851</td>\n",
       "      <td>0.954851</td>\n",
       "      <td>0.999411</td>\n",
       "      <td>0.961496</td>\n",
       "      <td>0.961070</td>\n",
       "      <td>1.000000</td>\n",
       "    </tr>\n",
       "  </tbody>\n",
       "</table>\n",
       "</div>"
      ],
      "text/plain": [
       "       Chiral indice n  Chiral indice m  Initial atomic coordinate u  \\\n",
       "count     10721.000000     10721.000000                 10721.000000   \n",
       "mean          8.225725         3.337189                     0.500064   \n",
       "std           2.138919         1.683881                     0.286524   \n",
       "min           2.000000         1.000000                     0.045149   \n",
       "25%           7.000000         2.000000                     0.218041   \n",
       "50%           8.000000         3.000000                     0.500181   \n",
       "75%          10.000000         5.000000                     0.781959   \n",
       "max          12.000000         6.000000                     0.954851   \n",
       "\n",
       "       Initial atomic coordinate v  Initial atomic coordinate w  \\\n",
       "count                 10721.000000                 10721.000000   \n",
       "mean                      0.500072                     0.499637   \n",
       "std                       0.286495                     0.288503   \n",
       "min                       0.045149                     0.000061   \n",
       "25%                       0.217594                     0.249483   \n",
       "50%                       0.500297                     0.500057   \n",
       "75%                       0.782709                     0.749191   \n",
       "max                       0.954851                     0.999411   \n",
       "\n",
       "       Calculated atomic coordinates u'  Calculated atomic coordinates v'  \\\n",
       "count                      10721.000000                      10721.000000   \n",
       "mean                           0.500064                          0.500072   \n",
       "std                            0.290935                          0.291012   \n",
       "min                            0.038504                          0.038930   \n",
       "25%                            0.213364                          0.212922   \n",
       "50%                            0.500538                          0.500020   \n",
       "75%                            0.786588                          0.787161   \n",
       "max                            0.961496                          0.961070   \n",
       "\n",
       "       Calculated atomic coordinates w'  \n",
       "count                      10721.000000  \n",
       "mean                           0.499834  \n",
       "std                            0.289095  \n",
       "min                            0.000000  \n",
       "25%                            0.249242  \n",
       "50%                            0.499755  \n",
       "75%                            0.749463  \n",
       "max                            1.000000  "
      ]
     },
     "execution_count": 9,
     "metadata": {},
     "output_type": "execute_result"
    }
   ],
   "source": [
    "train.describe()"
   ]
  },
  {
   "cell_type": "markdown",
   "metadata": {},
   "source": [
    "### __Separating input from output parameters__"
   ]
  },
  {
   "cell_type": "code",
   "execution_count": 10,
   "metadata": {},
   "outputs": [],
   "source": [
    "X = train[['Chiral indice n','Chiral indice m','Initial atomic coordinate u', 'Initial atomic coordinate v', 'Initial atomic coordinate w']]\n",
    "y = train[[\"Calculated atomic coordinates u'\", \"Calculated atomic coordinates v'\", \"Calculated atomic coordinates w'\"]]"
   ]
  },
  {
   "cell_type": "markdown",
   "metadata": {},
   "source": [
    "### __Splitting dataset for training (70%) and testing (30%) purpose__"
   ]
  },
  {
   "cell_type": "code",
   "execution_count": 11,
   "metadata": {},
   "outputs": [],
   "source": [
    "X_train, X_test, y_train, y_test = train_test_split(X, y, test_size=0.3)"
   ]
  },
  {
   "cell_type": "markdown",
   "metadata": {},
   "source": [
    "### __Viewing dimensions for desinging our model__"
   ]
  },
  {
   "cell_type": "code",
   "execution_count": 12,
   "metadata": {},
   "outputs": [
    {
     "name": "stdout",
     "output_type": "stream",
     "text": [
      "(7504, 5) (7504, 3)\n",
      "(3217, 5) (3217, 3)\n"
     ]
    }
   ],
   "source": [
    "print(X_train.shape, y_train.shape)\n",
    "print(X_test.shape, y_test.shape)"
   ]
  },
  {
   "cell_type": "markdown",
   "metadata": {},
   "source": [
    "### __Designing our model (with 1 hidden layer of 20 cells)__"
   ]
  },
  {
   "cell_type": "code",
   "execution_count": 13,
   "metadata": {},
   "outputs": [],
   "source": [
    "model = Sequential()\n",
    "model.add(Dense(20, input_shape=(5,), activation = 'relu'))\n",
    "model.add(Dense(3,))"
   ]
  },
  {
   "cell_type": "markdown",
   "metadata": {},
   "source": [
    "### __Model summary__"
   ]
  },
  {
   "cell_type": "code",
   "execution_count": 14,
   "metadata": {},
   "outputs": [
    {
     "name": "stdout",
     "output_type": "stream",
     "text": [
      "_________________________________________________________________\n",
      "Layer (type)                 Output Shape              Param #   \n",
      "=================================================================\n",
      "dense_1 (Dense)              (None, 20)                120       \n",
      "_________________________________________________________________\n",
      "dense_2 (Dense)              (None, 3)                 63        \n",
      "=================================================================\n",
      "Total params: 183\n",
      "Trainable params: 183\n",
      "Non-trainable params: 0\n",
      "_________________________________________________________________\n",
      "None\n"
     ]
    }
   ],
   "source": [
    "print(model.summary())\n",
    "plot_model(model, to_file='Carbon_nanotube_model.png', show_shapes=True, show_layer_names=True)"
   ]
  },
  {
   "cell_type": "markdown",
   "metadata": {},
   "source": [
    "### __Compiling Model__"
   ]
  },
  {
   "cell_type": "code",
   "execution_count": 15,
   "metadata": {},
   "outputs": [],
   "source": [
    "model.compile(Adam(lr=0.02), 'mean_squared_error')"
   ]
  },
  {
   "cell_type": "markdown",
   "metadata": {},
   "source": [
    "### __Fitting Model__"
   ]
  },
  {
   "cell_type": "code",
   "execution_count": 16,
   "metadata": {},
   "outputs": [
    {
     "name": "stdout",
     "output_type": "stream",
     "text": [
      "Train on 5252 samples, validate on 2252 samples\n",
      "Epoch 1/10\n",
      "5252/5252 [==============================] - 3s 507us/step - loss: 0.1902 - val_loss: 0.0317\n",
      "Epoch 2/10\n",
      "5252/5252 [==============================] - 1s 208us/step - loss: 0.0195 - val_loss: 0.0100\n",
      "Epoch 3/10\n",
      "5252/5252 [==============================] - 1s 213us/step - loss: 0.0057 - val_loss: 0.0021\n",
      "Epoch 4/10\n",
      "5252/5252 [==============================] - 1s 209us/step - loss: 7.5079e-04 - val_loss: 1.8042e-04\n",
      "Epoch 5/10\n",
      "5252/5252 [==============================] - 1s 206us/step - loss: 1.2057e-04 - val_loss: 1.1128e-04\n",
      "Epoch 6/10\n",
      "5252/5252 [==============================] - 1s 211us/step - loss: 1.0006e-04 - val_loss: 1.0850e-04\n",
      "Epoch 7/10\n",
      "5252/5252 [==============================] - 1s 213us/step - loss: 1.0319e-04 - val_loss: 1.0869e-04\n",
      "Epoch 8/10\n",
      "5252/5252 [==============================] - 1s 211us/step - loss: 9.6323e-05 - val_loss: 1.0934e-04\n",
      "Epoch 9/10\n",
      "5252/5252 [==============================] - 1s 205us/step - loss: 1.0565e-04 - val_loss: 1.0543e-04\n",
      "Epoch 10/10\n",
      "5252/5252 [==============================] - 1s 214us/step - loss: 1.0132e-04 - val_loss: 1.2098e-04\n"
     ]
    },
    {
     "data": {
      "text/plain": [
       "<keras.callbacks.History at 0x7fe5b8af2908>"
      ]
     },
     "execution_count": 16,
     "metadata": {},
     "output_type": "execute_result"
    }
   ],
   "source": [
    "model.fit(X_train, y_train, epochs = 10, validation_split = 0.3)"
   ]
  },
  {
   "cell_type": "markdown",
   "metadata": {},
   "source": [
    "### __Predicting on testing dataset__"
   ]
  },
  {
   "cell_type": "code",
   "execution_count": 17,
   "metadata": {},
   "outputs": [],
   "source": [
    "y_train_pred = model.predict(X_train)\n",
    "y_test_pred = model.predict(X_test)"
   ]
  },
  {
   "cell_type": "markdown",
   "metadata": {},
   "source": [
    "### __Accuracy Obtained__"
   ]
  },
  {
   "cell_type": "code",
   "execution_count": 18,
   "metadata": {},
   "outputs": [
    {
     "name": "stdout",
     "output_type": "stream",
     "text": [
      "The accuracy score on the Train set is:\t0.999\n",
      "The accuracy score on the Test set is:\t0.999\n"
     ]
    }
   ],
   "source": [
    "print(\"The accuracy score on the Train set is:\\t{:0.3f}\".format(r2_score(y_train, y_train_pred)))\n",
    "print(\"The accuracy score on the Test set is:\\t{:0.3f}\".format(r2_score(y_test, y_test_pred)))"
   ]
  },
  {
   "cell_type": "markdown",
   "metadata": {},
   "source": [
    "#### __The dataset of the atomic coordinates of elements and chiral vectors  was created using BIOVIA Materials Studio CASTEP (CASTEP) software.__\n",
    "#### __DNN here is also generated to reduce CPU Intensive time taking CASTEP Simulation.__\n",
    "#### __Authors of the paper \"Artificial neural network approach for atomic coordinate prediction of carbon nanotubes\" designed their ANN for 99% accuracy in MATLAB with 1000 epochs.__\n",
    "#### __My work: I optimized my DNN from 75% to 99% accuracy in just 10 epochs.__\n",
    "# __-------------------------------------------------------------------------------------------------------------------__\n",
    "##### __Source: Artificial neural network approach for atomic coordinate prediction of carbon nanotubes (https://link.springer.com/article/10.1007/s00339-016-0153-1#Sec7)__"
   ]
  }
 ],
 "metadata": {
  "kernelspec": {
   "display_name": "Python 3",
   "language": "python",
   "name": "python3"
  },
  "language_info": {
   "codemirror_mode": {
    "name": "ipython",
    "version": 3
   },
   "file_extension": ".py",
   "mimetype": "text/x-python",
   "name": "python",
   "nbconvert_exporter": "python",
   "pygments_lexer": "ipython3",
   "version": "3.6.9"
  }
 },
 "nbformat": 4,
 "nbformat_minor": 2
}
