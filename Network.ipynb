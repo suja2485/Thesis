{
 "cells": [
  {
   "cell_type": "markdown",
   "metadata": {},
   "source": [
    "### Importing Libraries "
   ]
  },
  {
   "cell_type": "code",
   "execution_count": 28,
   "metadata": {},
   "outputs": [
    {
     "name": "stderr",
     "output_type": "stream",
     "text": [
      "/home/ram/anaconda3/lib/python3.6/site-packages/tensorflow/python/framework/dtypes.py:469: FutureWarning: Passing (type, 1) or '1type' as a synonym of type is deprecated; in a future version of numpy, it will be understood as (type, (1,)) / '(1,)type'.\n",
      "  _np_qint8 = np.dtype([(\"qint8\", np.int8, 1)])\n",
      "/home/ram/anaconda3/lib/python3.6/site-packages/tensorflow/python/framework/dtypes.py:470: FutureWarning: Passing (type, 1) or '1type' as a synonym of type is deprecated; in a future version of numpy, it will be understood as (type, (1,)) / '(1,)type'.\n",
      "  _np_quint8 = np.dtype([(\"quint8\", np.uint8, 1)])\n",
      "/home/ram/anaconda3/lib/python3.6/site-packages/tensorflow/python/framework/dtypes.py:471: FutureWarning: Passing (type, 1) or '1type' as a synonym of type is deprecated; in a future version of numpy, it will be understood as (type, (1,)) / '(1,)type'.\n",
      "  _np_qint16 = np.dtype([(\"qint16\", np.int16, 1)])\n",
      "/home/ram/anaconda3/lib/python3.6/site-packages/tensorflow/python/framework/dtypes.py:472: FutureWarning: Passing (type, 1) or '1type' as a synonym of type is deprecated; in a future version of numpy, it will be understood as (type, (1,)) / '(1,)type'.\n",
      "  _np_quint16 = np.dtype([(\"quint16\", np.uint16, 1)])\n",
      "/home/ram/anaconda3/lib/python3.6/site-packages/tensorflow/python/framework/dtypes.py:473: FutureWarning: Passing (type, 1) or '1type' as a synonym of type is deprecated; in a future version of numpy, it will be understood as (type, (1,)) / '(1,)type'.\n",
      "  _np_qint32 = np.dtype([(\"qint32\", np.int32, 1)])\n",
      "/home/ram/anaconda3/lib/python3.6/site-packages/tensorflow/python/framework/dtypes.py:476: FutureWarning: Passing (type, 1) or '1type' as a synonym of type is deprecated; in a future version of numpy, it will be understood as (type, (1,)) / '(1,)type'.\n",
      "  np_resource = np.dtype([(\"resource\", np.ubyte, 1)])\n",
      "/home/ram/anaconda3/lib/python3.6/importlib/_bootstrap.py:219: RuntimeWarning: compiletime version 3.5 of module 'tensorflow.python.framework.fast_tensor_util' does not match runtime version 3.6\n",
      "  return f(*args, **kwds)\n",
      "Using TensorFlow backend.\n"
     ]
    }
   ],
   "source": [
    "import tensorflow as tf\n",
    "import keras\n",
    "import sklearn\n",
    "import numpy as np\n",
    "import pandas as pd\n",
    "import glob\n",
    "import os"
   ]
  },
  {
   "cell_type": "markdown",
   "metadata": {},
   "source": [
    "### Loading Input .csv into 2D array"
   ]
  },
  {
   "cell_type": "code",
   "execution_count": 10,
   "metadata": {},
   "outputs": [],
   "source": [
    "dataset_X2 = np.loadtxt('data_files/input.csv', delimiter = ',', skiprows = 1)"
   ]
  },
  {
   "cell_type": "markdown",
   "metadata": {},
   "source": [
    "### Loading Output.csv into 3D array"
   ]
  },
  {
   "cell_type": "code",
   "execution_count": 11,
   "metadata": {},
   "outputs": [],
   "source": [
    "folder_name = 'data_files'\n",
    "file_type = 'csv'\n",
    "seperator = ','\n",
    "dataset_Y27 = np.dstack([pd.read_csv(f, sep = seperator) for f in glob.glob(folder_name + \"/output_*.\" + file_type)]) #(257, 7, 14641)\n",
    "dataset_Y26 = np.delete(dataset_Y27, 6, axis = 1) #(257, 6, 14641)"
   ]
  },
  {
   "cell_type": "markdown",
   "metadata": {},
   "source": [
    "### Writing the dataset in h5py file"
   ]
  },
  {
   "cell_type": "code",
   "execution_count": 14,
   "metadata": {},
   "outputs": [],
   "source": [
    "import h5py\n",
    "h5f = h5py.File('data.h5', 'w')\n",
    "h5f.create_dataset('sizes', data = dataset_X2)\n",
    "dataset_Y2 = dataset_Y26.tolist()\n",
    "h5f.create_dataset('spectrum', data = dataset_Y2)\n",
    "h5f.close()"
   ]
  },
  {
   "cell_type": "markdown",
   "metadata": {},
   "source": [
    "### Reading the h5py file for X and Y values"
   ]
  },
  {
   "cell_type": "code",
   "execution_count": 26,
   "metadata": {},
   "outputs": [],
   "source": [
    "h5f = h5py.File('./data.h5','r')\n",
    "X = h5f['sizes'][:]\n",
    "YYY = h5f['spectrum'][:] #(257, 6, 14641)\n",
    "YY = np.swapaxes(YYY, 2, 0) #(14641, 6, 257)\n",
    "Y = np.swapaxes(YY, 2, 1) #(14641, 257, 6)\n",
    "#YYYY = np.reshape(YY, (14641, 1542)) #(14641, 1542)"
   ]
  },
  {
   "cell_type": "markdown",
   "metadata": {},
   "source": [
    "### Importing Scikit Learn Parameters"
   ]
  },
  {
   "cell_type": "code",
   "execution_count": 31,
   "metadata": {},
   "outputs": [],
   "source": [
    "from sklearn.model_selection import train_test_split\n",
    "from sklearn.metrics import r2_score"
   ]
  },
  {
   "cell_type": "markdown",
   "metadata": {},
   "source": [
    "### Importing Keras Parameters"
   ]
  },
  {
   "cell_type": "code",
   "execution_count": 32,
   "metadata": {},
   "outputs": [],
   "source": [
    "from keras.models import Sequential\n",
    "from keras.layers import Dense, Reshape"
   ]
  },
  {
   "cell_type": "markdown",
   "metadata": {},
   "source": [
    "### Splitting the dataset into training, testing and validation sets"
   ]
  },
  {
   "cell_type": "code",
   "execution_count": 37,
   "metadata": {},
   "outputs": [],
   "source": [
    "X_train, X_test, Y_train, Y_test = train_test_split(X, Y, test_size = 0.2)"
   ]
  },
  {
   "cell_type": "markdown",
   "metadata": {},
   "source": [
    "### Designing our Model"
   ]
  },
  {
   "cell_type": "code",
   "execution_count": 38,
   "metadata": {},
   "outputs": [],
   "source": [
    "model = Sequential()\n",
    "model.add(Dense(8, input_dim = 4, activation = 'relu'))\n",
    "#model.add(Dense(16, activation = 'relu'))\n",
    "#model.add(Dense(32, activation = 'relu'))\n",
    "model.add(Dense(64, activation = 'relu'))\n",
    "#model.add(Dense(128, activation = 'relu'))\n",
    "#model.add(Dense(256, activation = 'relu'))\n",
    "model.add(Dense(512, activation = 'relu'))\n",
    "#model.add(Dense(1024, activation = 'relu'))\n",
    "model.add(Dense(1542, activation = 'relu'))\n",
    "#model.add(Dense(6, activation = 'relu'))\n",
    "model.add(Reshape((257, 6)))\n",
    "#model.output_shape"
   ]
  },
  {
   "cell_type": "markdown",
   "metadata": {},
   "source": [
    "### Compiling the Model"
   ]
  },
  {
   "cell_type": "code",
   "execution_count": 39,
   "metadata": {},
   "outputs": [],
   "source": [
    "model.compile(loss = 'mean_squared_logarithmic_error', optimizer = 'adam')"
   ]
  },
  {
   "cell_type": "markdown",
   "metadata": {},
   "source": [
    "### Fitting the Model"
   ]
  },
  {
   "cell_type": "code",
   "execution_count": 40,
   "metadata": {},
   "outputs": [
    {
     "name": "stdout",
     "output_type": "stream",
     "text": [
      "Train on 9369 samples, validate on 2343 samples\n",
      "Epoch 1/50\n",
      "9369/9369 [==============================] - 12s 1ms/step - loss: 5.8986 - val_loss: 5.3417\n",
      "Epoch 2/50\n",
      "9369/9369 [==============================] - 12s 1ms/step - loss: 5.0602 - val_loss: 4.8238\n",
      "Epoch 3/50\n",
      "9369/9369 [==============================] - 12s 1ms/step - loss: 4.7889 - val_loss: 4.6868\n",
      "Epoch 4/50\n",
      "9369/9369 [==============================] - 12s 1ms/step - loss: 4.6704 - val_loss: 4.5953\n",
      "Epoch 5/50\n",
      "9369/9369 [==============================] - 12s 1ms/step - loss: 4.5944 - val_loss: 4.4418\n",
      "Epoch 6/50\n",
      "9369/9369 [==============================] - 12s 1ms/step - loss: 4.4167 - val_loss: 4.3559\n",
      "Epoch 7/50\n",
      "9369/9369 [==============================] - 12s 1ms/step - loss: 4.3482 - val_loss: 4.2411\n",
      "Epoch 8/50\n",
      "9369/9369 [==============================] - 12s 1ms/step - loss: 4.2434 - val_loss: 4.2135\n",
      "Epoch 9/50\n",
      "9369/9369 [==============================] - 12s 1ms/step - loss: 4.2359 - val_loss: 4.2040\n",
      "Epoch 10/50\n",
      "9369/9369 [==============================] - 12s 1ms/step - loss: 4.2113 - val_loss: 4.1742\n",
      "Epoch 11/50\n",
      "9369/9369 [==============================] - 12s 1ms/step - loss: 4.1816 - val_loss: 4.1412\n",
      "Epoch 12/50\n",
      "9369/9369 [==============================] - 12s 1ms/step - loss: 4.1592 - val_loss: 4.1306\n",
      "Epoch 13/50\n",
      "9369/9369 [==============================] - 12s 1ms/step - loss: 4.1475 - val_loss: 4.1124\n",
      "Epoch 14/50\n",
      "9369/9369 [==============================] - 12s 1ms/step - loss: 4.1383 - val_loss: 4.1119\n",
      "Epoch 15/50\n",
      "9369/9369 [==============================] - 12s 1ms/step - loss: 4.1331 - val_loss: 4.1048\n",
      "Epoch 16/50\n",
      "9369/9369 [==============================] - 12s 1ms/step - loss: 4.1222 - val_loss: 4.0933\n",
      "Epoch 17/50\n",
      "9369/9369 [==============================] - 12s 1ms/step - loss: 4.1062 - val_loss: 4.0464\n",
      "Epoch 18/50\n",
      "9369/9369 [==============================] - 12s 1ms/step - loss: 4.0653 - val_loss: 4.0365\n",
      "Epoch 19/50\n",
      "9369/9369 [==============================] - 12s 1ms/step - loss: 4.0445 - val_loss: 4.0045\n",
      "Epoch 20/50\n",
      "9369/9369 [==============================] - 12s 1ms/step - loss: 4.0199 - val_loss: 4.0087\n",
      "Epoch 21/50\n",
      "9369/9369 [==============================] - 12s 1ms/step - loss: 4.0186 - val_loss: 3.9919\n",
      "Epoch 22/50\n",
      "9369/9369 [==============================] - 12s 1ms/step - loss: 4.0151 - val_loss: 3.9907\n",
      "Epoch 23/50\n",
      "9369/9369 [==============================] - 12s 1ms/step - loss: 4.0146 - val_loss: 3.9889\n",
      "Epoch 24/50\n",
      "9369/9369 [==============================] - 12s 1ms/step - loss: 4.0141 - val_loss: 3.9913\n",
      "Epoch 25/50\n",
      "9369/9369 [==============================] - 12s 1ms/step - loss: 3.9981 - val_loss: 3.9682\n",
      "Epoch 26/50\n",
      "9369/9369 [==============================] - 12s 1ms/step - loss: 3.9936 - val_loss: 3.9669\n",
      "Epoch 27/50\n",
      "9369/9369 [==============================] - 12s 1ms/step - loss: 3.9935 - val_loss: 3.9660\n",
      "Epoch 28/50\n",
      "9369/9369 [==============================] - 12s 1ms/step - loss: 3.9926 - val_loss: 3.9691\n",
      "Epoch 29/50\n",
      "9369/9369 [==============================] - 12s 1ms/step - loss: 3.9853 - val_loss: 3.9520\n",
      "Epoch 30/50\n",
      "9369/9369 [==============================] - 12s 1ms/step - loss: 3.9762 - val_loss: 3.9507\n",
      "Epoch 31/50\n",
      "9369/9369 [==============================] - 12s 1ms/step - loss: 3.9736 - val_loss: 3.9469\n",
      "Epoch 32/50\n",
      "9369/9369 [==============================] - 12s 1ms/step - loss: 3.9730 - val_loss: 3.9484\n",
      "Epoch 33/50\n",
      "9369/9369 [==============================] - 12s 1ms/step - loss: 3.9730 - val_loss: 3.9463\n",
      "Epoch 34/50\n",
      "9369/9369 [==============================] - 12s 1ms/step - loss: 3.9649 - val_loss: 3.9388\n",
      "Epoch 35/50\n",
      "9369/9369 [==============================] - 12s 1ms/step - loss: 3.9631 - val_loss: 3.9375\n",
      "Epoch 36/50\n",
      "9369/9369 [==============================] - 12s 1ms/step - loss: 3.9607 - val_loss: 3.9369\n",
      "Epoch 37/50\n",
      "9369/9369 [==============================] - 12s 1ms/step - loss: 3.9535 - val_loss: 3.9246\n",
      "Epoch 38/50\n",
      "9369/9369 [==============================] - 12s 1ms/step - loss: 3.9505 - val_loss: 3.9224\n",
      "Epoch 39/50\n",
      "9369/9369 [==============================] - 12s 1ms/step - loss: 3.9457 - val_loss: 3.9178\n",
      "Epoch 40/50\n",
      "9369/9369 [==============================] - 12s 1ms/step - loss: 3.9433 - val_loss: 3.9200\n",
      "Epoch 41/50\n",
      "9369/9369 [==============================] - 12s 1ms/step - loss: 3.9421 - val_loss: 3.9162\n",
      "Epoch 42/50\n",
      "9369/9369 [==============================] - 12s 1ms/step - loss: 3.9399 - val_loss: 3.9065\n",
      "Epoch 43/50\n",
      "9369/9369 [==============================] - 12s 1ms/step - loss: 3.9336 - val_loss: 3.9076\n",
      "Epoch 44/50\n",
      "9369/9369 [==============================] - 12s 1ms/step - loss: 3.9298 - val_loss: 3.9017\n",
      "Epoch 45/50\n",
      "9369/9369 [==============================] - 12s 1ms/step - loss: 3.9072 - val_loss: 3.8778\n",
      "Epoch 46/50\n",
      "9369/9369 [==============================] - 12s 1ms/step - loss: 3.9043 - val_loss: 3.8800\n",
      "Epoch 47/50\n",
      "9369/9369 [==============================] - 12s 1ms/step - loss: 3.8994 - val_loss: 3.8707\n",
      "Epoch 48/50\n",
      "9369/9369 [==============================] - 12s 1ms/step - loss: 3.8937 - val_loss: 3.8701\n",
      "Epoch 49/50\n",
      "9369/9369 [==============================] - 12s 1ms/step - loss: 3.8716 - val_loss: 3.8372\n",
      "Epoch 50/50\n",
      "9369/9369 [==============================] - 12s 1ms/step - loss: 3.8619 - val_loss: 3.8364\n"
     ]
    },
    {
     "data": {
      "text/plain": [
       "<keras.callbacks.History at 0x7fb82fc3b240>"
      ]
     },
     "execution_count": 40,
     "metadata": {},
     "output_type": "execute_result"
    }
   ],
   "source": [
    "model.fit(X_train, Y_train, epochs = 50, batch_size = 10, validation_split = 0.2)\n",
    "#model.fit(X, YYY, epochs = 100, batch_size = 10)"
   ]
  },
  {
   "cell_type": "markdown",
   "metadata": {},
   "source": [
    "### Testing our Model"
   ]
  },
  {
   "cell_type": "code",
   "execution_count": 41,
   "metadata": {},
   "outputs": [],
   "source": [
    "Y_train_pred = model.predict(X_train)\n",
    "Y_test_pred = model.predict(X_test)"
   ]
  },
  {
   "cell_type": "markdown",
   "metadata": {},
   "source": [
    "### Printing R2 Value"
   ]
  },
  {
   "cell_type": "code",
   "execution_count": 42,
   "metadata": {},
   "outputs": [
    {
     "name": "stdout",
     "output_type": "stream",
     "text": [
      "The coefficient of determination on the Train set is:\t-79.254\n",
      "The coefficient of determination on the Test set is:\t-77.865\n"
     ]
    }
   ],
   "source": [
    "print(\"The coefficient of determination on the Train set is:\\t{:0.3f}\".format(r2_score(Y_train.reshape(X_train.shape[0],1542), Y_train_pred.reshape(X_train.shape[0],1542))))\n",
    "print(\"The coefficient of determination on the Test set is:\\t{:0.3f}\".format(r2_score(Y_test.reshape(X_test.shape[0],1542), Y_test_pred.reshape(X_test.shape[0],1542))))"
   ]
  }
 ],
 "metadata": {
  "kernelspec": {
   "display_name": "Python 3",
   "language": "python",
   "name": "python3"
  },
  "language_info": {
   "codemirror_mode": {
    "name": "ipython",
    "version": 3
   },
   "file_extension": ".py",
   "mimetype": "text/x-python",
   "name": "python",
   "nbconvert_exporter": "python",
   "pygments_lexer": "ipython3",
   "version": "3.6.9"
  }
 },
 "nbformat": 4,
 "nbformat_minor": 2
}
