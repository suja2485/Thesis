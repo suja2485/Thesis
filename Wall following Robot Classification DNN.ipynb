{
 "cells": [
  {
   "cell_type": "markdown",
   "metadata": {},
   "source": [
    "# Thesis Update"
   ]
  },
  {
   "cell_type": "markdown",
   "metadata": {},
   "source": [
    "# My first Optimized Classification Problem using DNN"
   ]
  },
  {
   "cell_type": "markdown",
   "metadata": {},
   "source": [
    "### Importing Libraries"
   ]
  },
  {
   "cell_type": "code",
   "execution_count": 1,
   "metadata": {},
   "outputs": [
    {
     "name": "stderr",
     "output_type": "stream",
     "text": [
      "/home/ram/anaconda3/lib/python3.6/importlib/_bootstrap.py:219: RuntimeWarning: numpy.dtype size changed, may indicate binary incompatibility. Expected 96, got 88\n",
      "  return f(*args, **kwds)\n",
      "/home/ram/anaconda3/lib/python3.6/site-packages/h5py/__init__.py:36: FutureWarning: Conversion of the second argument of issubdtype from `float` to `np.floating` is deprecated. In future, it will be treated as `np.float64 == np.dtype(float).type`.\n",
      "  from ._conv import register_converters as _register_converters\n",
      "/home/ram/anaconda3/lib/python3.6/importlib/_bootstrap.py:219: RuntimeWarning: numpy.dtype size changed, may indicate binary incompatibility. Expected 96, got 88\n",
      "  return f(*args, **kwds)\n",
      "/home/ram/anaconda3/lib/python3.6/importlib/_bootstrap.py:219: RuntimeWarning: numpy.dtype size changed, may indicate binary incompatibility. Expected 96, got 88\n",
      "  return f(*args, **kwds)\n"
     ]
    }
   ],
   "source": [
    "import tensorflow as tf\n",
    "import numpy as np\n",
    "import pandas as pd\n",
    "#import sklearn"
   ]
  },
  {
   "cell_type": "markdown",
   "metadata": {},
   "source": [
    "### Importing Keras Parameters"
   ]
  },
  {
   "cell_type": "code",
   "execution_count": 2,
   "metadata": {},
   "outputs": [
    {
     "name": "stderr",
     "output_type": "stream",
     "text": [
      "Using TensorFlow backend.\n"
     ]
    }
   ],
   "source": [
    "from keras.models import Sequential\n",
    "from keras.layers import Dense\n",
    "from keras.optimizers import Adam\n",
    "from keras.utils import to_categorical"
   ]
  },
  {
   "cell_type": "markdown",
   "metadata": {},
   "source": [
    "### Importing Data File (.csv)"
   ]
  },
  {
   "cell_type": "code",
   "execution_count": 3,
   "metadata": {},
   "outputs": [],
   "source": [
    "df = pd.read_csv('sensor_readings_24.csv', delimiter = ',', dtype = np.str)"
   ]
  },
  {
   "cell_type": "markdown",
   "metadata": {},
   "source": [
    "### Viewing Dataset"
   ]
  },
  {
   "cell_type": "code",
   "execution_count": 4,
   "metadata": {},
   "outputs": [
    {
     "name": "stdout",
     "output_type": "stream",
     "text": [
      "      0.438  0.498  3.625  3.645  5.000  2.918 5.000.1  2.351  2.332  2.643  \\\n",
      "0     0.438  0.498  3.625  3.648  5.000  2.918   5.000  2.637  2.332  2.649   \n",
      "1     0.438  0.498  3.625  3.629  5.000  2.918   5.000  2.637  2.334  2.643   \n",
      "2     0.437  0.501  3.625  3.626  5.000  2.918   5.000  2.353  2.334  2.642   \n",
      "3     0.438  0.498  3.626  3.629  5.000  2.918   5.000  2.640  2.334  2.639   \n",
      "4     0.439  0.498  3.626  3.629  5.000  2.918   5.000  2.633  2.334  2.645   \n",
      "5     0.440  5.000  3.627  3.628  5.000  2.919   3.028  2.346  2.330  2.638   \n",
      "6     0.444  5.021  3.631  3.634  5.000  2.919   5.000  2.626  2.327  2.638   \n",
      "7     0.451  5.025  3.635  3.639  5.000  2.920   3.027  2.620  2.323  2.632   \n",
      "8     0.458  5.022  3.640  3.644  5.000  2.922   5.000  2.346  2.321  2.628   \n",
      "9     0.465  0.525  3.646  3.670  5.000  2.923   5.000  2.611  2.315  2.631   \n",
      "10    0.473  0.533  3.652  3.676  5.000  2.925   5.000  2.607  2.310  2.623   \n",
      "11    0.481  0.544  3.658  3.678  5.000  2.926   5.000  2.606  2.303  2.619   \n",
      "12    0.484  0.544  3.661  3.665  5.000  2.928   5.000  2.321  2.304  5.022   \n",
      "13    0.484  0.532  3.669  3.662  2.945  2.926   5.000  2.326  2.306  2.620   \n",
      "14    0.482  0.520  3.685  3.664  2.952  2.927   5.000  2.981  2.307  2.329   \n",
      "15    0.481  0.522  3.682  3.661  2.955  2.927   2.957  2.984  1.700  2.622   \n",
      "16    0.480  0.525  3.694  3.664  2.948  2.926   2.950  2.995  1.697  2.619   \n",
      "17    0.481  0.515  5.018  3.664  2.956  2.927   2.947  2.993  1.697  2.622   \n",
      "18    0.479  5.000  3.696  3.661  2.953  2.927   2.944  2.993  1.702  2.622   \n",
      "19    0.480  0.506  5.019  3.665  2.941  2.929   2.945  2.981  1.700  2.616   \n",
      "20    0.479  5.000  5.019  3.661  2.943  2.930   2.942  2.996  1.698  2.312   \n",
      "21    0.479  5.000  5.020  3.662  2.945  2.931   2.942  2.997  1.700  2.313   \n",
      "22    0.481  0.508  5.021  3.660  2.954  2.936   2.946  2.966  1.705  2.313   \n",
      "23    0.486  0.510  0.522  3.662  2.958  2.938   2.939  2.627  1.707  2.314   \n",
      "24    0.479  0.521  0.520  3.663  2.954  2.938   2.941  2.957  1.712  2.314   \n",
      "25    0.480  0.554  0.521  3.664  2.954  2.938   2.941  2.632  1.715  2.313   \n",
      "26    0.481  0.511  5.023  3.665  2.954  2.937   2.941  2.627  1.707  2.312   \n",
      "27    0.482  0.528  0.524  3.665  2.953  2.937   2.940  2.629  1.706  2.312   \n",
      "28    0.482  0.529  0.521  3.665  2.956  2.940   2.940  2.627  1.706  2.312   \n",
      "29    0.482  0.525  0.524  3.665  2.953  2.940   2.940  2.630  1.709  2.311   \n",
      "...     ...    ...    ...    ...    ...    ...     ...    ...    ...    ...   \n",
      "5425  4.410  3.626  5.000  5.000  2.643  2.650   2.594  1.411  4.860  1.361   \n",
      "5426  4.414  3.651  5.000  2.664  2.645  2.654   2.521  1.411  1.389  1.363   \n",
      "5427  4.411  3.629  3.686  2.666  2.647  2.659   2.523  1.410  1.392  1.364   \n",
      "5428  4.416  3.630  3.687  2.667  2.648  2.617   2.601  1.409  1.391  1.364   \n",
      "5429  4.415  3.633  3.689  2.665  2.649  2.657   2.519  1.409  1.384  1.360   \n",
      "5430  4.422  3.638  3.699  2.663  2.650  2.614   2.514  1.402  1.378  1.354   \n",
      "5431  4.421  3.652  5.000  2.672  2.653  2.609   2.515  1.397  1.369  1.346   \n",
      "5432  4.427  5.000  5.000  2.673  2.657  2.604   2.505  1.386  1.359  1.335   \n",
      "5433  4.438  3.674  3.736  2.669  2.662  2.608   2.502  1.374  1.350  1.323   \n",
      "5434  4.444  5.000  3.749  2.678  2.667  2.606   2.502  1.360  1.649  1.309   \n",
      "5435  4.454  3.705  3.741  2.683  2.673  2.717   2.497  1.341  1.317  1.293   \n",
      "5436  4.464  3.721  2.718  2.689  2.680  2.697   2.494  1.324  1.300  1.276   \n",
      "5437  4.474  3.730  2.722  2.697  2.686  3.554   2.497  1.309  1.285  1.264   \n",
      "5438  4.485  5.000  2.733  2.704  2.693  2.704   2.487  1.294  1.272  1.248   \n",
      "5439  4.495  2.771  3.808  2.710  2.699  2.708   2.487  1.278  1.603  1.231   \n",
      "5440  4.506  5.000  2.746  2.716  2.708  2.741   2.473  1.268  1.566  1.215   \n",
      "5441  1.515  3.803  2.755  2.725  2.711  2.701   2.467  1.248  1.226  1.199   \n",
      "5442  4.540  5.000  2.761  2.731  2.720  2.689   2.463  1.232  5.000  1.180   \n",
      "5443  4.547  3.834  3.870  2.734  2.725  2.328   2.460  1.215  5.000  1.166   \n",
      "5444  4.556  5.000  3.890  2.743  2.731  2.323   2.456  1.199  5.000  1.149   \n",
      "5445  1.316  3.873  3.907  2.749  2.738  2.326   2.449  1.177  5.000  1.128   \n",
      "5446  4.586  3.884  3.923  2.755  2.743  2.334   2.445  1.163  5.000  1.113   \n",
      "5447  4.604  5.000  3.944  2.765  2.750  2.688   2.445  1.142  1.129  1.095   \n",
      "5448  1.646  3.925  3.958  2.771  2.756  2.337   2.439  1.127  1.785  1.077   \n",
      "5449  0.911  3.939  3.976  2.775  2.763  2.573   2.436  1.106  1.781  1.059   \n",
      "5450  0.910  5.000  3.997  2.785  2.770  2.572   2.433  1.087  1.772  1.040   \n",
      "5451  0.926  5.000  4.015  2.792  2.777  2.571   1.768  1.071  1.762  1.021   \n",
      "5452  0.937  5.000  4.034  2.799  2.784  2.571   1.754  1.053  1.752  1.002   \n",
      "5453  0.945  4.052  4.052  2.809  2.791  2.441   1.757  1.034  1.743  0.983   \n",
      "5454  0.950  4.066  5.000  2.819  2.798  2.570   2.422  1.016  1.739  0.964   \n",
      "\n",
      "            ...          0.593  0.502  0.493  0.504  0.445  0.431  0.444  \\\n",
      "0           ...          0.592  0.502  0.493  0.504  0.449  0.431  0.444   \n",
      "1           ...          0.593  0.502  0.493  0.504  0.449  0.431  0.444   \n",
      "2           ...          0.593  0.502  0.493  0.504  0.449  0.431  0.444   \n",
      "3           ...          0.592  0.502  0.493  0.504  0.449  0.431  0.444   \n",
      "4           ...          0.589  0.502  0.493  0.504  0.446  0.431  0.444   \n",
      "5           ...          0.588  0.501  0.492  0.504  0.451  0.433  0.446   \n",
      "6           ...          0.595  0.500  0.491  0.503  0.453  0.436  0.448   \n",
      "7           ...          0.595  0.499  0.491  0.502  0.457  0.440  0.453   \n",
      "8           ...          0.590  0.496  0.490  0.498  0.462  0.444  0.458   \n",
      "9           ...          0.593  0.495  0.488  0.497  0.467  0.449  0.462   \n",
      "10          ...          0.578  0.496  0.487  0.498  0.469  0.454  0.467   \n",
      "11          ...          0.581  0.495  0.486  0.497  0.477  0.459  0.472   \n",
      "12          ...          0.623  0.493  0.484  0.495  0.480  0.461  0.474   \n",
      "13          ...          0.533  0.493  0.483  0.494  0.507  0.461  0.473   \n",
      "14          ...          0.533  0.492  0.482  0.492  0.513  0.459  0.474   \n",
      "15          ...          0.530  0.492  0.482  0.492  0.513  0.462  0.486   \n",
      "16          ...          0.530  0.493  0.482  0.492  0.516  0.462  0.486   \n",
      "17          ...          0.592  0.489  0.482  0.495  0.531  0.462  0.499   \n",
      "18          ...          0.588  0.489  0.481  0.491  0.510  0.462  0.481   \n",
      "19          ...          0.643  0.491  0.480  0.493  0.524  0.461  0.469   \n",
      "20          ...          0.617  0.491  0.479  0.491  0.575  0.461  0.465   \n",
      "21          ...          0.616  0.490  0.478  0.489  0.503  0.460  0.460   \n",
      "22          ...          0.678  0.493  0.477  0.483  0.497  0.467  0.459   \n",
      "23          ...          0.696  0.516  0.476  0.477  0.547  0.465  0.457   \n",
      "24          ...          0.688  0.534  0.475  0.475  0.489  0.461  0.456   \n",
      "25          ...          0.687  0.553  0.475  0.474  0.558  0.462  0.453   \n",
      "26          ...          0.687  0.545  0.475  0.475  0.504  0.463  0.458   \n",
      "27          ...          0.566  0.549  0.475  0.476  0.505  0.464  0.459   \n",
      "28          ...          0.566  0.556  0.475  0.476  0.502  0.463  0.459   \n",
      "29          ...          0.563  0.542  0.475  0.476  0.488  0.464  0.459   \n",
      "...         ...            ...    ...    ...    ...    ...    ...    ...   \n",
      "5425        ...          0.790  0.780  0.792  0.816  0.869  0.878  5.000   \n",
      "5426        ...          0.789  0.778  0.789  0.816  0.868  2.347  5.000   \n",
      "5427        ...          0.788  0.777  0.783  0.809  0.827  0.923  5.000   \n",
      "5428        ...          0.787  0.776  0.782  2.119  0.870  0.895  5.000   \n",
      "5429        ...          0.786  0.775  0.782  2.120  0.872  0.922  5.000   \n",
      "5430        ...          0.784  0.774  0.781  0.895  0.876  0.911  5.000   \n",
      "5431        ...          0.781  0.771  0.781  0.804  0.880  5.000  5.000   \n",
      "5432        ...          0.777  0.766  0.776  5.000  0.882  5.000  5.000   \n",
      "5433        ...          0.772  0.761  0.768  5.000  0.889  5.000  5.000   \n",
      "5434        ...          0.766  0.755  0.766  0.789  0.899  5.000  5.000   \n",
      "5435        ...          0.760  0.749  0.759  5.000  0.903  5.000  2.799   \n",
      "5436        ...          0.754  0.743  0.753  5.000  0.912  5.000  5.000   \n",
      "5437        ...          0.746  0.736  0.745  0.772  0.920  0.973  5.000   \n",
      "5438        ...          0.740  0.729  0.738  0.761  0.931  0.977  5.000   \n",
      "5439        ...          0.733  0.722  0.732  5.000  0.974  0.978  5.000   \n",
      "5440        ...          0.727  0.716  0.725  5.000  0.775  0.987  5.000   \n",
      "5441        ...          0.720  0.709  0.718  5.000  5.000  0.995  5.000   \n",
      "5442        ...          0.714  0.703  0.712  5.000  1.000  1.000  5.000   \n",
      "5443        ...          0.708  0.696  0.706  5.000  5.000  0.998  5.000   \n",
      "5444        ...          0.701  0.690  0.699  5.000  5.000  1.017  5.000   \n",
      "5445        ...          0.695  0.683  0.692  5.000  5.000  1.010  5.000   \n",
      "5446        ...          0.688  0.676  0.686  0.757  5.000  1.010  5.000   \n",
      "5447        ...          0.681  0.669  0.678  0.750  5.000  1.020  5.000   \n",
      "5448        ...          0.674  0.662  0.672  0.753  5.000  1.026  5.000   \n",
      "5449        ...          0.667  0.655  0.665  1.591  5.000  1.035  5.000   \n",
      "5450        ...          0.660  0.648  0.657  0.686  5.000  1.045  5.000   \n",
      "5451        ...          0.652  0.640  0.649  1.593  1.616  1.058  5.000   \n",
      "5452        ...          0.648  0.633  0.642  0.741  5.000  1.065  5.000   \n",
      "5453        ...          0.641  0.626  0.635  0.754  5.000  1.076  5.000   \n",
      "5454        ...          0.635  0.618  0.628  0.776  5.000  1.083  5.000   \n",
      "\n",
      "      0.440  0.429  Slight-Right-Turn  \n",
      "0     0.443  0.429  Slight-Right-Turn  \n",
      "1     0.446  0.429  Slight-Right-Turn  \n",
      "2     0.444  0.429  Slight-Right-Turn  \n",
      "3     0.441  0.429  Slight-Right-Turn  \n",
      "4     0.444  0.430  Slight-Right-Turn  \n",
      "5     0.444  0.432  Slight-Right-Turn  \n",
      "6     0.444  0.436  Slight-Right-Turn  \n",
      "7     0.454  0.442   Sharp-Right-Turn  \n",
      "8     0.461  0.449   Sharp-Right-Turn  \n",
      "9     0.469  0.457   Sharp-Right-Turn  \n",
      "10    0.476  0.465   Sharp-Right-Turn  \n",
      "11    0.484  0.472   Sharp-Right-Turn  \n",
      "12    0.485  0.476   Sharp-Right-Turn  \n",
      "13    0.486  0.476   Sharp-Right-Turn  \n",
      "14    0.485  0.474   Sharp-Right-Turn  \n",
      "15    0.483  0.473   Sharp-Right-Turn  \n",
      "16    0.483  0.473   Sharp-Right-Turn  \n",
      "17    0.483  0.473   Sharp-Right-Turn  \n",
      "18    0.483  0.473   Sharp-Right-Turn  \n",
      "19    0.484  0.473   Sharp-Right-Turn  \n",
      "20    0.484  0.473   Sharp-Right-Turn  \n",
      "21    0.478  0.473  Slight-Right-Turn  \n",
      "22    0.476  0.473  Slight-Right-Turn  \n",
      "23    0.470  0.474  Slight-Right-Turn  \n",
      "24    0.465  0.474  Slight-Right-Turn  \n",
      "25    0.465  0.476  Slight-Right-Turn  \n",
      "26    0.470  0.477  Slight-Right-Turn  \n",
      "27    0.468  0.477  Slight-Right-Turn  \n",
      "28    0.468  0.477  Slight-Right-Turn  \n",
      "29    0.468  0.478  Slight-Right-Turn  \n",
      "...     ...    ...                ...  \n",
      "5425  0.717  5.000       Move-Forward  \n",
      "5426  0.750  0.716       Move-Forward  \n",
      "5427  1.847  0.708       Move-Forward  \n",
      "5428  5.000  0.706       Move-Forward  \n",
      "5429  0.758  0.712       Move-Forward  \n",
      "5430  0.753  0.722       Move-Forward  \n",
      "5431  1.889  0.727       Move-Forward  \n",
      "5432  0.775  0.748       Move-Forward  \n",
      "5433  0.797  0.754   Sharp-Right-Turn  \n",
      "5434  0.797  0.775       Move-Forward  \n",
      "5435  2.005  1.624       Move-Forward  \n",
      "5436  2.036  0.801       Move-Forward  \n",
      "5437  2.073  0.817       Move-Forward  \n",
      "5438  2.102  0.864       Move-Forward  \n",
      "5439  2.138  0.851       Move-Forward  \n",
      "5440  2.178  0.860       Move-Forward  \n",
      "5441  5.000  0.878       Move-Forward  \n",
      "5442  5.000  0.898       Move-Forward  \n",
      "5443  5.000  0.919       Move-Forward  \n",
      "5444  5.000  1.576       Move-Forward  \n",
      "5445  5.000  0.966       Move-Forward  \n",
      "5446  5.000  5.000       Move-Forward  \n",
      "5447  5.000  1.007       Move-Forward  \n",
      "5448  5.000  1.594       Move-Forward  \n",
      "5449  5.000  5.000       Move-Forward  \n",
      "5450  5.000  1.562       Move-Forward  \n",
      "5451  5.000  1.085   Sharp-Right-Turn  \n",
      "5452  5.000  1.105   Sharp-Right-Turn  \n",
      "5453  5.000  1.118       Move-Forward  \n",
      "5454  5.000  1.168   Sharp-Right-Turn  \n",
      "\n",
      "[5455 rows x 25 columns]\n"
     ]
    }
   ],
   "source": [
    "print(df)"
   ]
  },
  {
   "cell_type": "markdown",
   "metadata": {},
   "source": [
    "### Cleaning Dataset (Converting String to Integer)"
   ]
  },
  {
   "cell_type": "code",
   "execution_count": 5,
   "metadata": {},
   "outputs": [],
   "source": [
    "df = df.replace('Move-Forward',0)\n",
    "df = df.replace('Slight-Right-Turn',1)\n",
    "df = df.replace('Sharp-Right-Turn',2)\n",
    "df = df.replace('Slight-Left-Turn',3)"
   ]
  },
  {
   "cell_type": "markdown",
   "metadata": {},
   "source": [
    "### Converting Dataset into Matrix"
   ]
  },
  {
   "cell_type": "code",
   "execution_count": 6,
   "metadata": {},
   "outputs": [],
   "source": [
    "data = pd.DataFrame.as_matrix(df)"
   ]
  },
  {
   "cell_type": "markdown",
   "metadata": {},
   "source": [
    "### Verifying Matrix Dimensions"
   ]
  },
  {
   "cell_type": "code",
   "execution_count": 7,
   "metadata": {},
   "outputs": [
    {
     "name": "stdout",
     "output_type": "stream",
     "text": [
      "(5455, 25)\n"
     ]
    }
   ],
   "source": [
    "print(data.shape)"
   ]
  },
  {
   "cell_type": "markdown",
   "metadata": {},
   "source": [
    "### Splitting Dataset into Training and Testing without using in-built Function"
   ]
  },
  {
   "cell_type": "code",
   "execution_count": 8,
   "metadata": {},
   "outputs": [],
   "source": [
    "s = int(0.7*data.shape[0])\n",
    "\n",
    "X_train = data[0:s,0:data.shape[1]-1]\n",
    "X_test = data[s:data.shape[0],0:data.shape[1]-1]\n",
    "\n",
    "y_train = data[0:s,data.shape[1]-1].astype(int)\n",
    "y_test = data[s:data.shape[0],data.shape[1]-1].astype(int)"
   ]
  },
  {
   "cell_type": "markdown",
   "metadata": {},
   "source": [
    "### Converting Classes in y to Categorical Variable"
   ]
  },
  {
   "cell_type": "code",
   "execution_count": 9,
   "metadata": {},
   "outputs": [],
   "source": [
    "y_train = to_categorical(y_train)\n",
    "y_test = to_categorical(y_test)"
   ]
  },
  {
   "cell_type": "markdown",
   "metadata": {},
   "source": [
    "### Designing our model"
   ]
  },
  {
   "cell_type": "code",
   "execution_count": 10,
   "metadata": {},
   "outputs": [],
   "source": [
    "model = Sequential()\n",
    "model.add(Dense(28, input_dim = 24, activation = 'relu', kernel_initializer = 'he_uniform'))\n",
    "model.add(Dense(24, activation = 'relu'))\n",
    "model.add(Dense(20, activation = 'relu'))\n",
    "model.add(Dense(16, activation = 'relu'))\n",
    "model.add(Dense(12, activation = 'relu'))\n",
    "model.add(Dense(8, activation = 'relu'))\n",
    "model.add(Dense(4, activation = 'softmax'))"
   ]
  },
  {
   "cell_type": "markdown",
   "metadata": {},
   "source": [
    "### Compiling Model"
   ]
  },
  {
   "cell_type": "code",
   "execution_count": 11,
   "metadata": {},
   "outputs": [],
   "source": [
    "model.compile(loss='categorical_crossentropy', optimizer='adam', metrics=['accuracy'])"
   ]
  },
  {
   "cell_type": "markdown",
   "metadata": {},
   "source": [
    "### Fitting Model"
   ]
  },
  {
   "cell_type": "code",
   "execution_count": 13,
   "metadata": {},
   "outputs": [
    {
     "name": "stdout",
     "output_type": "stream",
     "text": [
      "Epoch 1/10\n",
      "3818/3818 [==============================] - 3s 896us/step - loss: 0.3477 - acc: 0.8669\n",
      "Epoch 2/10\n",
      "3818/3818 [==============================] - 3s 861us/step - loss: 0.3288 - acc: 0.8800\n",
      "Epoch 3/10\n",
      "3818/3818 [==============================] - 3s 847us/step - loss: 0.3141 - acc: 0.8845\n",
      "Epoch 4/10\n",
      "3818/3818 [==============================] - 3s 797us/step - loss: 0.3080 - acc: 0.8874\n",
      "Epoch 5/10\n",
      "3818/3818 [==============================] - 3s 868us/step - loss: 0.2976 - acc: 0.8882\n",
      "Epoch 6/10\n",
      "3818/3818 [==============================] - 3s 832us/step - loss: 0.2785 - acc: 0.9054\n",
      "Epoch 7/10\n",
      "3818/3818 [==============================] - 3s 873us/step - loss: 0.2814 - acc: 0.8979\n",
      "Epoch 8/10\n",
      "3818/3818 [==============================] - 3s 875us/step - loss: 0.2700 - acc: 0.8989\n",
      "Epoch 9/10\n",
      "3818/3818 [==============================] - 3s 872us/step - loss: 0.2635 - acc: 0.9049\n",
      "Epoch 10/10\n",
      "3818/3818 [==============================] - 3s 855us/step - loss: 0.2575 - acc: 0.9083\n"
     ]
    },
    {
     "data": {
      "text/plain": [
       "<keras.callbacks.History at 0x7fea61b4bda0>"
      ]
     },
     "execution_count": 13,
     "metadata": {},
     "output_type": "execute_result"
    }
   ],
   "source": [
    "model.fit(X_train, y_train, epochs=10, batch_size=10)"
   ]
  },
  {
   "cell_type": "markdown",
   "metadata": {},
   "source": [
    "####  The dataset consists of distance measured by 24 ultrasonic sensors.\n",
    "#### I optimized my DNN from 33% to 90% accuracy in just 10 epochs.\n",
    "# -----------------------------------------------------------------------------------------------------------------------\n",
    "##### Short-Term Memory Mechanisms in Neural NetworkLearning of Robot Navigation Tasks: A Case Study (https://www.researchgate.net/publication/224117546_Short-term_memory_mechanisms_in_neural_network_learning_of_robot_navigation_tasks_A_case_study)"
   ]
  }
 ],
 "metadata": {
  "kernelspec": {
   "display_name": "Python 3",
   "language": "python",
   "name": "python3"
  },
  "language_info": {
   "codemirror_mode": {
    "name": "ipython",
    "version": 3
   },
   "file_extension": ".py",
   "mimetype": "text/x-python",
   "name": "python",
   "nbconvert_exporter": "python",
   "pygments_lexer": "ipython3",
   "version": "3.6.9"
  }
 },
 "nbformat": 4,
 "nbformat_minor": 2
}
