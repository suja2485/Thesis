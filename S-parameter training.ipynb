{
 "cells": [
  {
   "cell_type": "code",
   "execution_count": 3,
   "metadata": {},
   "outputs": [
    {
     "name": "stderr",
     "output_type": "stream",
     "text": [
      "/home/ram/anaconda3/lib/python3.6/importlib/_bootstrap.py:219: RuntimeWarning: numpy.dtype size changed, may indicate binary incompatibility. Expected 96, got 88\n",
      "  return f(*args, **kwds)\n",
      "/home/ram/anaconda3/lib/python3.6/importlib/_bootstrap.py:219: RuntimeWarning: numpy.dtype size changed, may indicate binary incompatibility. Expected 96, got 88\n",
      "  return f(*args, **kwds)\n",
      "/home/ram/anaconda3/lib/python3.6/importlib/_bootstrap.py:219: RuntimeWarning: numpy.dtype size changed, may indicate binary incompatibility. Expected 96, got 88\n",
      "  return f(*args, **kwds)\n",
      "/home/ram/anaconda3/lib/python3.6/importlib/_bootstrap.py:219: RuntimeWarning: numpy.dtype size changed, may indicate binary incompatibility. Expected 96, got 88\n",
      "  return f(*args, **kwds)\n",
      "/home/ram/anaconda3/lib/python3.6/site-packages/h5py/__init__.py:36: FutureWarning: Conversion of the second argument of issubdtype from `float` to `np.floating` is deprecated. In future, it will be treated as `np.float64 == np.dtype(float).type`.\n",
      "  from ._conv import register_converters as _register_converters\n",
      "/home/ram/anaconda3/lib/python3.6/importlib/_bootstrap.py:219: RuntimeWarning: numpy.dtype size changed, may indicate binary incompatibility. Expected 96, got 88\n",
      "  return f(*args, **kwds)\n"
     ]
    }
   ],
   "source": [
    "import numpy as np\n",
    "import pandas as pd\n",
    "import matplotlib.pyplot as plt\n",
    "import seaborn as sns\n",
    "import tensorflow as tf\n",
    "import sklearn"
   ]
  },
  {
   "cell_type": "code",
   "execution_count": 4,
   "metadata": {},
   "outputs": [
    {
     "name": "stderr",
     "output_type": "stream",
     "text": [
      "Using TensorFlow backend.\n"
     ]
    }
   ],
   "source": [
    "from keras.models import Sequential\n",
    "from keras.layers import Dense\n",
    "from keras.optimizers import Adam\n",
    "from keras.utils.vis_utils import plot_model"
   ]
  },
  {
   "cell_type": "code",
   "execution_count": 5,
   "metadata": {},
   "outputs": [
    {
     "name": "stderr",
     "output_type": "stream",
     "text": [
      "/home/ram/anaconda3/lib/python3.6/importlib/_bootstrap.py:219: RuntimeWarning: numpy.dtype size changed, may indicate binary incompatibility. Expected 96, got 88\n",
      "  return f(*args, **kwds)\n"
     ]
    }
   ],
   "source": [
    "from sklearn.model_selection import train_test_split"
   ]
  },
  {
   "cell_type": "code",
   "execution_count": 6,
   "metadata": {},
   "outputs": [],
   "source": [
    "data = pd.read_csv('Sstd.csv')"
   ]
  },
  {
   "cell_type": "code",
   "execution_count": 7,
   "metadata": {},
   "outputs": [],
   "source": [
    "#print(data)"
   ]
  },
  {
   "cell_type": "code",
   "execution_count": 8,
   "metadata": {},
   "outputs": [
    {
     "name": "stdout",
     "output_type": "stream",
     "text": [
      "(1000, 33)\n"
     ]
    }
   ],
   "source": [
    "print(data.shape)"
   ]
  },
  {
   "cell_type": "code",
   "execution_count": 9,
   "metadata": {},
   "outputs": [
    {
     "data": {
      "text/html": [
       "<div>\n",
       "<style scoped>\n",
       "    .dataframe tbody tr th:only-of-type {\n",
       "        vertical-align: middle;\n",
       "    }\n",
       "\n",
       "    .dataframe tbody tr th {\n",
       "        vertical-align: top;\n",
       "    }\n",
       "\n",
       "    .dataframe thead th {\n",
       "        text-align: right;\n",
       "    }\n",
       "</style>\n",
       "<table border=\"1\" class=\"dataframe\">\n",
       "  <thead>\n",
       "    <tr style=\"text-align: right;\">\n",
       "      <th></th>\n",
       "      <th>F</th>\n",
       "      <th>S11</th>\n",
       "      <th>S21</th>\n",
       "      <th>S31</th>\n",
       "      <th>S41</th>\n",
       "      <th>S12</th>\n",
       "      <th>S22</th>\n",
       "      <th>S32</th>\n",
       "      <th>S42</th>\n",
       "      <th>S13</th>\n",
       "      <th>...</th>\n",
       "      <th>S32'</th>\n",
       "      <th>S42'</th>\n",
       "      <th>S13'</th>\n",
       "      <th>S23'</th>\n",
       "      <th>S33'</th>\n",
       "      <th>S43'</th>\n",
       "      <th>S14'</th>\n",
       "      <th>S24'</th>\n",
       "      <th>S34'</th>\n",
       "      <th>S44'</th>\n",
       "    </tr>\n",
       "  </thead>\n",
       "  <tbody>\n",
       "    <tr>\n",
       "      <th>0</th>\n",
       "      <td>0.02</td>\n",
       "      <td>-58.881676</td>\n",
       "      <td>-0.010115</td>\n",
       "      <td>-77.568467</td>\n",
       "      <td>-77.850699</td>\n",
       "      <td>-0.010115</td>\n",
       "      <td>-58.881692</td>\n",
       "      <td>-77.850687</td>\n",
       "      <td>-77.570671</td>\n",
       "      <td>-77.568459</td>\n",
       "      <td>...</td>\n",
       "      <td>-77.850687</td>\n",
       "      <td>-77.570671</td>\n",
       "      <td>-77.568459</td>\n",
       "      <td>-77.850649</td>\n",
       "      <td>-58.881672</td>\n",
       "      <td>-0.010115</td>\n",
       "      <td>-77.850704</td>\n",
       "      <td>-77.570675</td>\n",
       "      <td>-0.010115</td>\n",
       "      <td>-58.881708</td>\n",
       "    </tr>\n",
       "    <tr>\n",
       "      <th>1</th>\n",
       "      <td>0.04</td>\n",
       "      <td>-58.865518</td>\n",
       "      <td>-0.010116</td>\n",
       "      <td>-77.188129</td>\n",
       "      <td>-77.749718</td>\n",
       "      <td>-0.010116</td>\n",
       "      <td>-58.865547</td>\n",
       "      <td>-77.749705</td>\n",
       "      <td>-77.190120</td>\n",
       "      <td>-77.188122</td>\n",
       "      <td>...</td>\n",
       "      <td>-77.749705</td>\n",
       "      <td>-77.190120</td>\n",
       "      <td>-77.188122</td>\n",
       "      <td>-77.749669</td>\n",
       "      <td>-58.865512</td>\n",
       "      <td>-0.010116</td>\n",
       "      <td>-77.749722</td>\n",
       "      <td>-77.190123</td>\n",
       "      <td>-0.010116</td>\n",
       "      <td>-58.865564</td>\n",
       "    </tr>\n",
       "    <tr>\n",
       "      <th>2</th>\n",
       "      <td>0.06</td>\n",
       "      <td>-58.838719</td>\n",
       "      <td>-0.010117</td>\n",
       "      <td>-76.620029</td>\n",
       "      <td>-77.586465</td>\n",
       "      <td>-0.010117</td>\n",
       "      <td>-58.838771</td>\n",
       "      <td>-77.586453</td>\n",
       "      <td>-76.621735</td>\n",
       "      <td>-76.620023</td>\n",
       "      <td>...</td>\n",
       "      <td>-77.586453</td>\n",
       "      <td>-76.621735</td>\n",
       "      <td>-76.620023</td>\n",
       "      <td>-77.586417</td>\n",
       "      <td>-58.838715</td>\n",
       "      <td>-0.010117</td>\n",
       "      <td>-77.586469</td>\n",
       "      <td>-76.621737</td>\n",
       "      <td>-0.010117</td>\n",
       "      <td>-58.838788</td>\n",
       "    </tr>\n",
       "    <tr>\n",
       "      <th>3</th>\n",
       "      <td>0.08</td>\n",
       "      <td>-58.801478</td>\n",
       "      <td>-0.010119</td>\n",
       "      <td>-75.932013</td>\n",
       "      <td>-77.367758</td>\n",
       "      <td>-0.010119</td>\n",
       "      <td>-58.801562</td>\n",
       "      <td>-77.367747</td>\n",
       "      <td>-75.933418</td>\n",
       "      <td>-75.932009</td>\n",
       "      <td>...</td>\n",
       "      <td>-77.367747</td>\n",
       "      <td>-75.933418</td>\n",
       "      <td>-75.932009</td>\n",
       "      <td>-77.367713</td>\n",
       "      <td>-58.801473</td>\n",
       "      <td>-0.010119</td>\n",
       "      <td>-77.367761</td>\n",
       "      <td>-75.933421</td>\n",
       "      <td>-0.010119</td>\n",
       "      <td>-58.801578</td>\n",
       "    </tr>\n",
       "    <tr>\n",
       "      <th>4</th>\n",
       "      <td>0.10</td>\n",
       "      <td>-58.754063</td>\n",
       "      <td>-0.010121</td>\n",
       "      <td>-75.182502</td>\n",
       "      <td>-77.101840</td>\n",
       "      <td>-0.010121</td>\n",
       "      <td>-58.754187</td>\n",
       "      <td>-77.101829</td>\n",
       "      <td>-75.183629</td>\n",
       "      <td>-75.182497</td>\n",
       "      <td>...</td>\n",
       "      <td>-77.101829</td>\n",
       "      <td>-75.183629</td>\n",
       "      <td>-75.182497</td>\n",
       "      <td>-77.101797</td>\n",
       "      <td>-58.754059</td>\n",
       "      <td>-0.010121</td>\n",
       "      <td>-77.101842</td>\n",
       "      <td>-75.183632</td>\n",
       "      <td>-0.010121</td>\n",
       "      <td>-58.754203</td>\n",
       "    </tr>\n",
       "  </tbody>\n",
       "</table>\n",
       "<p>5 rows × 33 columns</p>\n",
       "</div>"
      ],
      "text/plain": [
       "      F        S11       S21        S31        S41       S12        S22  \\\n",
       "0  0.02 -58.881676 -0.010115 -77.568467 -77.850699 -0.010115 -58.881692   \n",
       "1  0.04 -58.865518 -0.010116 -77.188129 -77.749718 -0.010116 -58.865547   \n",
       "2  0.06 -58.838719 -0.010117 -76.620029 -77.586465 -0.010117 -58.838771   \n",
       "3  0.08 -58.801478 -0.010119 -75.932013 -77.367758 -0.010119 -58.801562   \n",
       "4  0.10 -58.754063 -0.010121 -75.182502 -77.101840 -0.010121 -58.754187   \n",
       "\n",
       "         S32        S42        S13    ...           S32'       S42'  \\\n",
       "0 -77.850687 -77.570671 -77.568459    ...     -77.850687 -77.570671   \n",
       "1 -77.749705 -77.190120 -77.188122    ...     -77.749705 -77.190120   \n",
       "2 -77.586453 -76.621735 -76.620023    ...     -77.586453 -76.621735   \n",
       "3 -77.367747 -75.933418 -75.932009    ...     -77.367747 -75.933418   \n",
       "4 -77.101829 -75.183629 -75.182497    ...     -77.101829 -75.183629   \n",
       "\n",
       "        S13'       S23'       S33'      S43'       S14'       S24'      S34'  \\\n",
       "0 -77.568459 -77.850649 -58.881672 -0.010115 -77.850704 -77.570675 -0.010115   \n",
       "1 -77.188122 -77.749669 -58.865512 -0.010116 -77.749722 -77.190123 -0.010116   \n",
       "2 -76.620023 -77.586417 -58.838715 -0.010117 -77.586469 -76.621737 -0.010117   \n",
       "3 -75.932009 -77.367713 -58.801473 -0.010119 -77.367761 -75.933421 -0.010119   \n",
       "4 -75.182497 -77.101797 -58.754059 -0.010121 -77.101842 -75.183632 -0.010121   \n",
       "\n",
       "        S44'  \n",
       "0 -58.881708  \n",
       "1 -58.865564  \n",
       "2 -58.838788  \n",
       "3 -58.801578  \n",
       "4 -58.754203  \n",
       "\n",
       "[5 rows x 33 columns]"
      ]
     },
     "execution_count": 9,
     "metadata": {},
     "output_type": "execute_result"
    }
   ],
   "source": [
    "data.head()"
   ]
  },
  {
   "cell_type": "code",
   "execution_count": 10,
   "metadata": {},
   "outputs": [
    {
     "data": {
      "text/html": [
       "<div>\n",
       "<style scoped>\n",
       "    .dataframe tbody tr th:only-of-type {\n",
       "        vertical-align: middle;\n",
       "    }\n",
       "\n",
       "    .dataframe tbody tr th {\n",
       "        vertical-align: top;\n",
       "    }\n",
       "\n",
       "    .dataframe thead th {\n",
       "        text-align: right;\n",
       "    }\n",
       "</style>\n",
       "<table border=\"1\" class=\"dataframe\">\n",
       "  <thead>\n",
       "    <tr style=\"text-align: right;\">\n",
       "      <th></th>\n",
       "      <th>F</th>\n",
       "      <th>S11</th>\n",
       "      <th>S21</th>\n",
       "      <th>S31</th>\n",
       "      <th>S41</th>\n",
       "      <th>S12</th>\n",
       "      <th>S22</th>\n",
       "      <th>S32</th>\n",
       "      <th>S42</th>\n",
       "      <th>S13</th>\n",
       "      <th>...</th>\n",
       "      <th>S32'</th>\n",
       "      <th>S42'</th>\n",
       "      <th>S13'</th>\n",
       "      <th>S23'</th>\n",
       "      <th>S33'</th>\n",
       "      <th>S43'</th>\n",
       "      <th>S14'</th>\n",
       "      <th>S24'</th>\n",
       "      <th>S34'</th>\n",
       "      <th>S44'</th>\n",
       "    </tr>\n",
       "  </thead>\n",
       "  <tbody>\n",
       "    <tr>\n",
       "      <th>count</th>\n",
       "      <td>1000.000000</td>\n",
       "      <td>1000.000000</td>\n",
       "      <td>1000.000000</td>\n",
       "      <td>1000.000000</td>\n",
       "      <td>1000.000000</td>\n",
       "      <td>1000.000000</td>\n",
       "      <td>1000.000000</td>\n",
       "      <td>1000.000000</td>\n",
       "      <td>1000.000000</td>\n",
       "      <td>1000.000000</td>\n",
       "      <td>...</td>\n",
       "      <td>1000.000000</td>\n",
       "      <td>1000.000000</td>\n",
       "      <td>1000.000000</td>\n",
       "      <td>1000.000000</td>\n",
       "      <td>1000.000000</td>\n",
       "      <td>1000.000000</td>\n",
       "      <td>1000.000000</td>\n",
       "      <td>1000.000000</td>\n",
       "      <td>1000.000000</td>\n",
       "      <td>1000.000000</td>\n",
       "    </tr>\n",
       "    <tr>\n",
       "      <th>mean</th>\n",
       "      <td>10.010000</td>\n",
       "      <td>-37.534370</td>\n",
       "      <td>-0.035071</td>\n",
       "      <td>-41.577252</td>\n",
       "      <td>-47.917512</td>\n",
       "      <td>-0.035070</td>\n",
       "      <td>-37.543586</td>\n",
       "      <td>-47.917506</td>\n",
       "      <td>-41.576187</td>\n",
       "      <td>-41.577252</td>\n",
       "      <td>...</td>\n",
       "      <td>-47.917506</td>\n",
       "      <td>-41.576187</td>\n",
       "      <td>-41.577252</td>\n",
       "      <td>-47.917513</td>\n",
       "      <td>-37.534371</td>\n",
       "      <td>-0.035071</td>\n",
       "      <td>-47.917506</td>\n",
       "      <td>-41.576187</td>\n",
       "      <td>-0.035071</td>\n",
       "      <td>-37.543587</td>\n",
       "    </tr>\n",
       "    <tr>\n",
       "      <th>std</th>\n",
       "      <td>5.776389</td>\n",
       "      <td>6.747273</td>\n",
       "      <td>0.014967</td>\n",
       "      <td>8.161376</td>\n",
       "      <td>7.796602</td>\n",
       "      <td>0.014966</td>\n",
       "      <td>6.743587</td>\n",
       "      <td>7.796604</td>\n",
       "      <td>8.161927</td>\n",
       "      <td>8.161375</td>\n",
       "      <td>...</td>\n",
       "      <td>7.796604</td>\n",
       "      <td>8.161927</td>\n",
       "      <td>8.161375</td>\n",
       "      <td>7.796599</td>\n",
       "      <td>6.747273</td>\n",
       "      <td>0.014967</td>\n",
       "      <td>7.796606</td>\n",
       "      <td>8.161927</td>\n",
       "      <td>0.014966</td>\n",
       "      <td>6.743588</td>\n",
       "    </tr>\n",
       "    <tr>\n",
       "      <th>min</th>\n",
       "      <td>0.020000</td>\n",
       "      <td>-58.881676</td>\n",
       "      <td>-0.061683</td>\n",
       "      <td>-77.568467</td>\n",
       "      <td>-77.850699</td>\n",
       "      <td>-0.061680</td>\n",
       "      <td>-58.881692</td>\n",
       "      <td>-77.850687</td>\n",
       "      <td>-77.570671</td>\n",
       "      <td>-77.568459</td>\n",
       "      <td>...</td>\n",
       "      <td>-77.850687</td>\n",
       "      <td>-77.570671</td>\n",
       "      <td>-77.568459</td>\n",
       "      <td>-77.850649</td>\n",
       "      <td>-58.881672</td>\n",
       "      <td>-0.061683</td>\n",
       "      <td>-77.850704</td>\n",
       "      <td>-77.570675</td>\n",
       "      <td>-0.061680</td>\n",
       "      <td>-58.881708</td>\n",
       "    </tr>\n",
       "    <tr>\n",
       "      <th>25%</th>\n",
       "      <td>5.015000</td>\n",
       "      <td>-40.468143</td>\n",
       "      <td>-0.045387</td>\n",
       "      <td>-44.863291</td>\n",
       "      <td>-51.146805</td>\n",
       "      <td>-0.045385</td>\n",
       "      <td>-40.474079</td>\n",
       "      <td>-51.146801</td>\n",
       "      <td>-44.862756</td>\n",
       "      <td>-44.863291</td>\n",
       "      <td>...</td>\n",
       "      <td>-51.146801</td>\n",
       "      <td>-44.862756</td>\n",
       "      <td>-44.863291</td>\n",
       "      <td>-51.146805</td>\n",
       "      <td>-40.468144</td>\n",
       "      <td>-0.045387</td>\n",
       "      <td>-51.146801</td>\n",
       "      <td>-44.862756</td>\n",
       "      <td>-0.045385</td>\n",
       "      <td>-40.474080</td>\n",
       "    </tr>\n",
       "    <tr>\n",
       "      <th>50%</th>\n",
       "      <td>10.010000</td>\n",
       "      <td>-35.554766</td>\n",
       "      <td>-0.037063</td>\n",
       "      <td>-39.059490</td>\n",
       "      <td>-45.528233</td>\n",
       "      <td>-0.037062</td>\n",
       "      <td>-35.564686</td>\n",
       "      <td>-45.528230</td>\n",
       "      <td>-39.058463</td>\n",
       "      <td>-39.059490</td>\n",
       "      <td>...</td>\n",
       "      <td>-45.528230</td>\n",
       "      <td>-39.058463</td>\n",
       "      <td>-39.059490</td>\n",
       "      <td>-45.528234</td>\n",
       "      <td>-35.554767</td>\n",
       "      <td>-0.037063</td>\n",
       "      <td>-45.528229</td>\n",
       "      <td>-39.058463</td>\n",
       "      <td>-0.037062</td>\n",
       "      <td>-35.564686</td>\n",
       "    </tr>\n",
       "    <tr>\n",
       "      <th>75%</th>\n",
       "      <td>15.005000</td>\n",
       "      <td>-32.370805</td>\n",
       "      <td>-0.022522</td>\n",
       "      <td>-35.608477</td>\n",
       "      <td>-42.127472</td>\n",
       "      <td>-0.022522</td>\n",
       "      <td>-32.382732</td>\n",
       "      <td>-42.127464</td>\n",
       "      <td>-35.606906</td>\n",
       "      <td>-35.608477</td>\n",
       "      <td>...</td>\n",
       "      <td>-42.127464</td>\n",
       "      <td>-35.606906</td>\n",
       "      <td>-35.608477</td>\n",
       "      <td>-42.127474</td>\n",
       "      <td>-32.370806</td>\n",
       "      <td>-0.022522</td>\n",
       "      <td>-42.127462</td>\n",
       "      <td>-35.606906</td>\n",
       "      <td>-0.022522</td>\n",
       "      <td>-32.382733</td>\n",
       "    </tr>\n",
       "    <tr>\n",
       "      <th>max</th>\n",
       "      <td>20.000000</td>\n",
       "      <td>-30.277305</td>\n",
       "      <td>-0.010115</td>\n",
       "      <td>-33.201657</td>\n",
       "      <td>-39.787335</td>\n",
       "      <td>-0.010115</td>\n",
       "      <td>-30.293492</td>\n",
       "      <td>-39.787317</td>\n",
       "      <td>-33.199442</td>\n",
       "      <td>-33.201659</td>\n",
       "      <td>...</td>\n",
       "      <td>-39.787317</td>\n",
       "      <td>-33.199442</td>\n",
       "      <td>-33.201659</td>\n",
       "      <td>-39.787337</td>\n",
       "      <td>-30.277305</td>\n",
       "      <td>-0.010115</td>\n",
       "      <td>-39.787316</td>\n",
       "      <td>-33.199444</td>\n",
       "      <td>-0.010115</td>\n",
       "      <td>-30.293495</td>\n",
       "    </tr>\n",
       "  </tbody>\n",
       "</table>\n",
       "<p>8 rows × 33 columns</p>\n",
       "</div>"
      ],
      "text/plain": [
       "                 F          S11          S21          S31          S41  \\\n",
       "count  1000.000000  1000.000000  1000.000000  1000.000000  1000.000000   \n",
       "mean     10.010000   -37.534370    -0.035071   -41.577252   -47.917512   \n",
       "std       5.776389     6.747273     0.014967     8.161376     7.796602   \n",
       "min       0.020000   -58.881676    -0.061683   -77.568467   -77.850699   \n",
       "25%       5.015000   -40.468143    -0.045387   -44.863291   -51.146805   \n",
       "50%      10.010000   -35.554766    -0.037063   -39.059490   -45.528233   \n",
       "75%      15.005000   -32.370805    -0.022522   -35.608477   -42.127472   \n",
       "max      20.000000   -30.277305    -0.010115   -33.201657   -39.787335   \n",
       "\n",
       "               S12          S22          S32          S42          S13  \\\n",
       "count  1000.000000  1000.000000  1000.000000  1000.000000  1000.000000   \n",
       "mean     -0.035070   -37.543586   -47.917506   -41.576187   -41.577252   \n",
       "std       0.014966     6.743587     7.796604     8.161927     8.161375   \n",
       "min      -0.061680   -58.881692   -77.850687   -77.570671   -77.568459   \n",
       "25%      -0.045385   -40.474079   -51.146801   -44.862756   -44.863291   \n",
       "50%      -0.037062   -35.564686   -45.528230   -39.058463   -39.059490   \n",
       "75%      -0.022522   -32.382732   -42.127464   -35.606906   -35.608477   \n",
       "max      -0.010115   -30.293492   -39.787317   -33.199442   -33.201659   \n",
       "\n",
       "          ...              S32'         S42'         S13'         S23'  \\\n",
       "count     ...       1000.000000  1000.000000  1000.000000  1000.000000   \n",
       "mean      ...        -47.917506   -41.576187   -41.577252   -47.917513   \n",
       "std       ...          7.796604     8.161927     8.161375     7.796599   \n",
       "min       ...        -77.850687   -77.570671   -77.568459   -77.850649   \n",
       "25%       ...        -51.146801   -44.862756   -44.863291   -51.146805   \n",
       "50%       ...        -45.528230   -39.058463   -39.059490   -45.528234   \n",
       "75%       ...        -42.127464   -35.606906   -35.608477   -42.127474   \n",
       "max       ...        -39.787317   -33.199442   -33.201659   -39.787337   \n",
       "\n",
       "              S33'         S43'         S14'         S24'         S34'  \\\n",
       "count  1000.000000  1000.000000  1000.000000  1000.000000  1000.000000   \n",
       "mean    -37.534371    -0.035071   -47.917506   -41.576187    -0.035071   \n",
       "std       6.747273     0.014967     7.796606     8.161927     0.014966   \n",
       "min     -58.881672    -0.061683   -77.850704   -77.570675    -0.061680   \n",
       "25%     -40.468144    -0.045387   -51.146801   -44.862756    -0.045385   \n",
       "50%     -35.554767    -0.037063   -45.528229   -39.058463    -0.037062   \n",
       "75%     -32.370806    -0.022522   -42.127462   -35.606906    -0.022522   \n",
       "max     -30.277305    -0.010115   -39.787316   -33.199444    -0.010115   \n",
       "\n",
       "              S44'  \n",
       "count  1000.000000  \n",
       "mean    -37.543587  \n",
       "std       6.743588  \n",
       "min     -58.881708  \n",
       "25%     -40.474080  \n",
       "50%     -35.564686  \n",
       "75%     -32.382733  \n",
       "max     -30.293495  \n",
       "\n",
       "[8 rows x 33 columns]"
      ]
     },
     "execution_count": 10,
     "metadata": {},
     "output_type": "execute_result"
    }
   ],
   "source": [
    "data.describe()"
   ]
  },
  {
   "cell_type": "code",
   "execution_count": 11,
   "metadata": {},
   "outputs": [],
   "source": [
    "X = data[['F','S11','S21', 'S31', 'S41', 'S12', 'S22', 'S32', 'S42', 'S13', 'S23', 'S33', 'S43', 'S14', 'S24', 'S34', 'S44']]\n",
    "Y = data[[\"S11'\", \"S21'\", \"S31'\", \"S41'\", \"S12'\", \"S22'\", \"S32'\", \"S42'\", \"S13'\", \"S23'\", \"S33'\", \"S43'\", \"S14'\", \"S24'\", \"S34'\", \"S44'\"]]"
   ]
  },
  {
   "cell_type": "code",
   "execution_count": 12,
   "metadata": {},
   "outputs": [],
   "source": [
    "X_train, X_test, Y_train, Y_test = train_test_split(X, Y, test_size=0.3)"
   ]
  },
  {
   "cell_type": "code",
   "execution_count": 13,
   "metadata": {},
   "outputs": [
    {
     "name": "stdout",
     "output_type": "stream",
     "text": [
      "(700, 17) (700, 16)\n",
      "(300, 17) (300, 16)\n"
     ]
    }
   ],
   "source": [
    "print(X_train.shape, Y_train.shape)\n",
    "print(X_test.shape, Y_test.shape)"
   ]
  },
  {
   "cell_type": "code",
   "execution_count": 45,
   "metadata": {},
   "outputs": [],
   "source": [
    "model = Sequential()\n",
    "model.add(Dense(32, input_shape=(17,), activation = 'relu'))\n",
    "model.add(Dense(28, activation = 'relu'))\n",
    "model.add(Dense(24, activation = 'relu'))\n",
    "model.add(Dense(20, activation = 'relu'))\n",
    "model.add(Dense(16, activation = 'softmax'))"
   ]
  },
  {
   "cell_type": "code",
   "execution_count": 46,
   "metadata": {},
   "outputs": [
    {
     "name": "stdout",
     "output_type": "stream",
     "text": [
      "_________________________________________________________________\n",
      "Layer (type)                 Output Shape              Param #   \n",
      "=================================================================\n",
      "dense_26 (Dense)             (None, 32)                576       \n",
      "_________________________________________________________________\n",
      "dense_27 (Dense)             (None, 28)                924       \n",
      "_________________________________________________________________\n",
      "dense_28 (Dense)             (None, 24)                696       \n",
      "_________________________________________________________________\n",
      "dense_29 (Dense)             (None, 20)                500       \n",
      "_________________________________________________________________\n",
      "dense_30 (Dense)             (None, 16)                336       \n",
      "=================================================================\n",
      "Total params: 3,032\n",
      "Trainable params: 3,032\n",
      "Non-trainable params: 0\n",
      "_________________________________________________________________\n",
      "None\n"
     ]
    }
   ],
   "source": [
    "print(model.summary())\n",
    "plot_model(model, to_file='Sstd.png', show_shapes=True, show_layer_names=True)"
   ]
  },
  {
   "cell_type": "code",
   "execution_count": 47,
   "metadata": {},
   "outputs": [],
   "source": [
    "model.compile(loss='mean_squared_error', optimizer='adam', metrics=['accuracy'])"
   ]
  },
  {
   "cell_type": "code",
   "execution_count": 49,
   "metadata": {},
   "outputs": [
    {
     "name": "stdout",
     "output_type": "stream",
     "text": [
      "Train on 489 samples, validate on 211 samples\n",
      "Epoch 1/10\n",
      "489/489 [==============================] - 0s 826us/step - loss: 1419.3732 - acc: 0.8282 - val_loss: 1366.9584 - val_acc: 0.8483\n",
      "Epoch 2/10\n",
      "489/489 [==============================] - 0s 859us/step - loss: 1419.3732 - acc: 0.8282 - val_loss: 1366.9584 - val_acc: 0.8483\n",
      "Epoch 3/10\n",
      "489/489 [==============================] - 0s 799us/step - loss: 1419.3733 - acc: 0.8282 - val_loss: 1366.9584 - val_acc: 0.8483\n",
      "Epoch 4/10\n",
      "489/489 [==============================] - 0s 836us/step - loss: 1419.3732 - acc: 0.8282 - val_loss: 1366.9584 - val_acc: 0.8483\n",
      "Epoch 5/10\n",
      "489/489 [==============================] - 0s 809us/step - loss: 1419.3732 - acc: 0.8282 - val_loss: 1366.9584 - val_acc: 0.8483\n",
      "Epoch 6/10\n",
      "489/489 [==============================] - 0s 836us/step - loss: 1419.3732 - acc: 0.8282 - val_loss: 1366.9584 - val_acc: 0.8483\n",
      "Epoch 7/10\n",
      "489/489 [==============================] - 0s 834us/step - loss: 1419.3732 - acc: 0.8282 - val_loss: 1366.9584 - val_acc: 0.8483\n",
      "Epoch 8/10\n",
      "489/489 [==============================] - 0s 810us/step - loss: 1419.3733 - acc: 0.8282 - val_loss: 1366.9584 - val_acc: 0.8483\n",
      "Epoch 9/10\n",
      "489/489 [==============================] - 0s 805us/step - loss: 1419.3733 - acc: 0.8282 - val_loss: 1366.9584 - val_acc: 0.8483\n",
      "Epoch 10/10\n",
      "489/489 [==============================] - 0s 812us/step - loss: 1419.3732 - acc: 0.8282 - val_loss: 1366.9584 - val_acc: 0.8483\n"
     ]
    },
    {
     "data": {
      "text/plain": [
       "<keras.callbacks.History at 0x7f7e5019a1d0>"
      ]
     },
     "execution_count": 49,
     "metadata": {},
     "output_type": "execute_result"
    }
   ],
   "source": [
    "model.fit(X_train, Y_train, epochs=10, batch_size=10, validation_split = 0.3)"
   ]
  },
  {
   "cell_type": "code",
   "execution_count": 111,
   "metadata": {},
   "outputs": [
    {
     "data": {
      "text/plain": [
       "[<matplotlib.lines.Line2D at 0x7f78c01d8978>,\n",
       " <matplotlib.lines.Line2D at 0x7f78c01d8ac8>,\n",
       " <matplotlib.lines.Line2D at 0x7f78c01d8c18>,\n",
       " <matplotlib.lines.Line2D at 0x7f78c01d8d68>,\n",
       " <matplotlib.lines.Line2D at 0x7f78c01d8eb8>,\n",
       " <matplotlib.lines.Line2D at 0x7f78c01e1048>,\n",
       " <matplotlib.lines.Line2D at 0x7f78c01e1198>,\n",
       " <matplotlib.lines.Line2D at 0x7f78c01e12e8>,\n",
       " <matplotlib.lines.Line2D at 0x7f78c01e1438>,\n",
       " <matplotlib.lines.Line2D at 0x7f78c01e1588>,\n",
       " <matplotlib.lines.Line2D at 0x7f78c02412b0>,\n",
       " <matplotlib.lines.Line2D at 0x7f78c01e17f0>,\n",
       " <matplotlib.lines.Line2D at 0x7f78c01e1940>,\n",
       " <matplotlib.lines.Line2D at 0x7f78c01e1a90>,\n",
       " <matplotlib.lines.Line2D at 0x7f78c01e1be0>,\n",
       " <matplotlib.lines.Line2D at 0x7f78c01e1d30>,\n",
       " <matplotlib.lines.Line2D at 0x7f78c01e1e80>,\n",
       " <matplotlib.lines.Line2D at 0x7f78c01e1fd0>,\n",
       " <matplotlib.lines.Line2D at 0x7f78c01e7160>,\n",
       " <matplotlib.lines.Line2D at 0x7f78c01e72b0>,\n",
       " <matplotlib.lines.Line2D at 0x7f78c01e7400>,\n",
       " <matplotlib.lines.Line2D at 0x7f78c01e7550>,\n",
       " <matplotlib.lines.Line2D at 0x7f78c01e76a0>,\n",
       " <matplotlib.lines.Line2D at 0x7f78c01e77f0>,\n",
       " <matplotlib.lines.Line2D at 0x7f78c01e7940>,\n",
       " <matplotlib.lines.Line2D at 0x7f78c01e7a90>,\n",
       " <matplotlib.lines.Line2D at 0x7f78c01e7be0>,\n",
       " <matplotlib.lines.Line2D at 0x7f78c01e7d30>,\n",
       " <matplotlib.lines.Line2D at 0x7f78c01e7e80>,\n",
       " <matplotlib.lines.Line2D at 0x7f78c01e7fd0>,\n",
       " <matplotlib.lines.Line2D at 0x7f78c01ec160>,\n",
       " <matplotlib.lines.Line2D at 0x7f78c01ec2b0>,\n",
       " <matplotlib.lines.Line2D at 0x7f78c01ec400>]"
      ]
     },
     "execution_count": 111,
     "metadata": {},
     "output_type": "execute_result"
    },
    {
     "data": {
      "image/png": "[encoded data removed]",
      "text/plain": [
       "<Figure size 432x288 with 1 Axes>"
      ]
     },
     "metadata": {
      "needs_background": "light"
     },
     "output_type": "display_data"
    }
   ],
   "source": [
    "plt.plot(data)"
   ]
  },
  {
   "cell_type": "code",
   "execution_count": 110,
   "metadata": {},
   "outputs": [
    {
     "data": {
      "text/plain": [
       "[<matplotlib.lines.Line2D at 0x7f78c0257160>,\n",
       " <matplotlib.lines.Line2D at 0x7f78c02572b0>,\n",
       " <matplotlib.lines.Line2D at 0x7f78c0257400>,\n",
       " <matplotlib.lines.Line2D at 0x7f78c0257550>,\n",
       " <matplotlib.lines.Line2D at 0x7f78c02576a0>,\n",
       " <matplotlib.lines.Line2D at 0x7f78c02577f0>,\n",
       " <matplotlib.lines.Line2D at 0x7f78c0257940>,\n",
       " <matplotlib.lines.Line2D at 0x7f78c0257a90>,\n",
       " <matplotlib.lines.Line2D at 0x7f78c0257be0>,\n",
       " <matplotlib.lines.Line2D at 0x7f78c0257d30>,\n",
       " <matplotlib.lines.Line2D at 0x7f78c0311198>,\n",
       " <matplotlib.lines.Line2D at 0x7f78c0257f98>,\n",
       " <matplotlib.lines.Line2D at 0x7f78c025e128>,\n",
       " <matplotlib.lines.Line2D at 0x7f78c025e278>,\n",
       " <matplotlib.lines.Line2D at 0x7f78c025e3c8>,\n",
       " <matplotlib.lines.Line2D at 0x7f78c025e518>]"
      ]
     },
     "execution_count": 110,
     "metadata": {},
     "output_type": "execute_result"
    },
    {
     "data": {
      "image/png": "[encoded data removed]",
      "text/plain": [
       "<Figure size 432x288 with 1 Axes>"
      ]
     },
     "metadata": {
      "needs_background": "light"
     },
     "output_type": "display_data"
    }
   ],
   "source": [
    "plt.plot(Y_test)"
   ]
  },
  {
   "cell_type": "code",
   "execution_count": 74,
   "metadata": {},
   "outputs": [],
   "source": [
    "#data_matrix = pd.DataFrame.as_matrix(data)"
   ]
  },
  {
   "cell_type": "code",
   "execution_count": 186,
   "metadata": {},
   "outputs": [],
   "source": [
    "#print(data_matrix.shape)"
   ]
  },
  {
   "cell_type": "code",
   "execution_count": 48,
   "metadata": {},
   "outputs": [],
   "source": [
    "#s = int(0.7*data.shape[0])\n",
    "\n",
    "#X_train = data_matrix[0:s,0:data_matrix.shape[1]-16]\n",
    "#X_test = data_matrix[s:data_matrix.shape[0],0:data_matrix.shape[1]-16]\n",
    "\n",
    "#y_train = data_matrix[0:s,data_matrix.shape[1]-16]\n",
    "#y_test = data_matrix[s:data_matrix.shape[0],data_matrix.shape[1]-16]"
   ]
  },
  {
   "cell_type": "code",
   "execution_count": 185,
   "metadata": {},
   "outputs": [],
   "source": [
    "#print(X_train.shape, Y_train.shape)\n",
    "#print(X_test.shape, Y_test.shape)"
   ]
  }
 ],
 "metadata": {
  "kernelspec": {
   "display_name": "Python 3",
   "language": "python",
   "name": "python3"
  },
  "language_info": {
   "codemirror_mode": {
    "name": "ipython",
    "version": 3
   },
   "file_extension": ".py",
   "mimetype": "text/x-python",
   "name": "python",
   "nbconvert_exporter": "python",
   "pygments_lexer": "ipython3",
   "version": "3.6.9"
  }
 },
 "nbformat": 4,
 "nbformat_minor": 2
}
